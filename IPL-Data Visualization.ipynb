{
 "cells": [
  {
   "cell_type": "code",
   "execution_count": 1,
   "metadata": {},
   "outputs": [],
   "source": [
    "import pandas as pd\n",
    "import numpy as np\n",
    "import matplotlib.pyplot as plt\n",
    "import seaborn as sns\n",
    "import warnings\n",
    "warnings.filterwarnings('ignore')"
   ]
  },
  {
   "cell_type": "code",
   "execution_count": 2,
   "metadata": {},
   "outputs": [],
   "source": [
    "IPL_Ball_data = pd.read_excel('Assignment.xlsx', sheet_name='IPL Ball-by-Ball 2008-2020', header=0)"
   ]
  },
  {
   "cell_type": "code",
   "execution_count": 3,
   "metadata": {},
   "outputs": [
    {
     "data": {
      "text/html": [
       "<div>\n",
       "<style scoped>\n",
       "    .dataframe tbody tr th:only-of-type {\n",
       "        vertical-align: middle;\n",
       "    }\n",
       "\n",
       "    .dataframe tbody tr th {\n",
       "        vertical-align: top;\n",
       "    }\n",
       "\n",
       "    .dataframe thead th {\n",
       "        text-align: right;\n",
       "    }\n",
       "</style>\n",
       "<table border=\"1\" class=\"dataframe\">\n",
       "  <thead>\n",
       "    <tr style=\"text-align: right;\">\n",
       "      <th></th>\n",
       "      <th>id</th>\n",
       "      <th>inning</th>\n",
       "      <th>over</th>\n",
       "      <th>ball</th>\n",
       "      <th>batsman</th>\n",
       "      <th>non_striker</th>\n",
       "      <th>bowler</th>\n",
       "      <th>batsman_runs</th>\n",
       "      <th>extra_runs</th>\n",
       "      <th>total_runs</th>\n",
       "      <th>non_boundary</th>\n",
       "      <th>is_wicket</th>\n",
       "      <th>dismissal_kind</th>\n",
       "      <th>player_dismissed</th>\n",
       "      <th>fielder</th>\n",
       "      <th>extras_type</th>\n",
       "      <th>batting_team</th>\n",
       "      <th>bowling_team</th>\n",
       "    </tr>\n",
       "  </thead>\n",
       "  <tbody>\n",
       "    <tr>\n",
       "      <th>0</th>\n",
       "      <td>335982</td>\n",
       "      <td>1</td>\n",
       "      <td>6</td>\n",
       "      <td>5</td>\n",
       "      <td>RT Ponting</td>\n",
       "      <td>BB McCullum</td>\n",
       "      <td>AA Noffke</td>\n",
       "      <td>1</td>\n",
       "      <td>0</td>\n",
       "      <td>1</td>\n",
       "      <td>0</td>\n",
       "      <td>0</td>\n",
       "      <td>NaN</td>\n",
       "      <td>NaN</td>\n",
       "      <td>NaN</td>\n",
       "      <td>NaN</td>\n",
       "      <td>Kolkata Knight Riders</td>\n",
       "      <td>Royal Challengers Bangalore</td>\n",
       "    </tr>\n",
       "    <tr>\n",
       "      <th>1</th>\n",
       "      <td>335982</td>\n",
       "      <td>1</td>\n",
       "      <td>6</td>\n",
       "      <td>6</td>\n",
       "      <td>BB McCullum</td>\n",
       "      <td>RT Ponting</td>\n",
       "      <td>AA Noffke</td>\n",
       "      <td>1</td>\n",
       "      <td>0</td>\n",
       "      <td>1</td>\n",
       "      <td>0</td>\n",
       "      <td>0</td>\n",
       "      <td>NaN</td>\n",
       "      <td>NaN</td>\n",
       "      <td>NaN</td>\n",
       "      <td>NaN</td>\n",
       "      <td>Kolkata Knight Riders</td>\n",
       "      <td>Royal Challengers Bangalore</td>\n",
       "    </tr>\n",
       "    <tr>\n",
       "      <th>2</th>\n",
       "      <td>335982</td>\n",
       "      <td>1</td>\n",
       "      <td>7</td>\n",
       "      <td>1</td>\n",
       "      <td>BB McCullum</td>\n",
       "      <td>RT Ponting</td>\n",
       "      <td>Z Khan</td>\n",
       "      <td>0</td>\n",
       "      <td>0</td>\n",
       "      <td>0</td>\n",
       "      <td>0</td>\n",
       "      <td>0</td>\n",
       "      <td>NaN</td>\n",
       "      <td>NaN</td>\n",
       "      <td>NaN</td>\n",
       "      <td>NaN</td>\n",
       "      <td>Kolkata Knight Riders</td>\n",
       "      <td>Royal Challengers Bangalore</td>\n",
       "    </tr>\n",
       "    <tr>\n",
       "      <th>3</th>\n",
       "      <td>335982</td>\n",
       "      <td>1</td>\n",
       "      <td>7</td>\n",
       "      <td>2</td>\n",
       "      <td>BB McCullum</td>\n",
       "      <td>RT Ponting</td>\n",
       "      <td>Z Khan</td>\n",
       "      <td>1</td>\n",
       "      <td>0</td>\n",
       "      <td>1</td>\n",
       "      <td>0</td>\n",
       "      <td>0</td>\n",
       "      <td>NaN</td>\n",
       "      <td>NaN</td>\n",
       "      <td>NaN</td>\n",
       "      <td>NaN</td>\n",
       "      <td>Kolkata Knight Riders</td>\n",
       "      <td>Royal Challengers Bangalore</td>\n",
       "    </tr>\n",
       "    <tr>\n",
       "      <th>4</th>\n",
       "      <td>335982</td>\n",
       "      <td>1</td>\n",
       "      <td>7</td>\n",
       "      <td>3</td>\n",
       "      <td>RT Ponting</td>\n",
       "      <td>BB McCullum</td>\n",
       "      <td>Z Khan</td>\n",
       "      <td>1</td>\n",
       "      <td>0</td>\n",
       "      <td>1</td>\n",
       "      <td>0</td>\n",
       "      <td>0</td>\n",
       "      <td>NaN</td>\n",
       "      <td>NaN</td>\n",
       "      <td>NaN</td>\n",
       "      <td>NaN</td>\n",
       "      <td>Kolkata Knight Riders</td>\n",
       "      <td>Royal Challengers Bangalore</td>\n",
       "    </tr>\n",
       "  </tbody>\n",
       "</table>\n",
       "</div>"
      ],
      "text/plain": [
       "       id  inning  over  ball      batsman  non_striker     bowler  \\\n",
       "0  335982       1     6     5   RT Ponting  BB McCullum  AA Noffke   \n",
       "1  335982       1     6     6  BB McCullum   RT Ponting  AA Noffke   \n",
       "2  335982       1     7     1  BB McCullum   RT Ponting     Z Khan   \n",
       "3  335982       1     7     2  BB McCullum   RT Ponting     Z Khan   \n",
       "4  335982       1     7     3   RT Ponting  BB McCullum     Z Khan   \n",
       "\n",
       "   batsman_runs  extra_runs  total_runs  non_boundary  is_wicket  \\\n",
       "0             1           0           1             0          0   \n",
       "1             1           0           1             0          0   \n",
       "2             0           0           0             0          0   \n",
       "3             1           0           1             0          0   \n",
       "4             1           0           1             0          0   \n",
       "\n",
       "  dismissal_kind player_dismissed fielder extras_type           batting_team  \\\n",
       "0            NaN              NaN     NaN         NaN  Kolkata Knight Riders   \n",
       "1            NaN              NaN     NaN         NaN  Kolkata Knight Riders   \n",
       "2            NaN              NaN     NaN         NaN  Kolkata Knight Riders   \n",
       "3            NaN              NaN     NaN         NaN  Kolkata Knight Riders   \n",
       "4            NaN              NaN     NaN         NaN  Kolkata Knight Riders   \n",
       "\n",
       "                  bowling_team  \n",
       "0  Royal Challengers Bangalore  \n",
       "1  Royal Challengers Bangalore  \n",
       "2  Royal Challengers Bangalore  \n",
       "3  Royal Challengers Bangalore  \n",
       "4  Royal Challengers Bangalore  "
      ]
     },
     "execution_count": 3,
     "metadata": {},
     "output_type": "execute_result"
    }
   ],
   "source": [
    "IPL_Ball_data.head()"
   ]
  },
  {
   "cell_type": "code",
   "execution_count": 31,
   "metadata": {},
   "outputs": [],
   "source": [
    "batsmen=IPL_Ball_data.loc[:,[\"batsman\",'batsman_runs']] "
   ]
  },
  {
   "cell_type": "code",
   "execution_count": 34,
   "metadata": {},
   "outputs": [
    {
     "ename": "AttributeError",
     "evalue": "'DataFrameGroupBy' object has no attribute 'avg'",
     "output_type": "error",
     "traceback": [
      "\u001b[1;31m---------------------------------------------------------------------------\u001b[0m",
      "\u001b[1;31mAttributeError\u001b[0m                            Traceback (most recent call last)",
      "\u001b[1;32m<ipython-input-34-218ba32ff106>\u001b[0m in \u001b[0;36m<module>\u001b[1;34m\u001b[0m\n\u001b[1;32m----> 1\u001b[1;33m \u001b[0mbatsmen\u001b[0m\u001b[1;33m.\u001b[0m\u001b[0mgroupby\u001b[0m\u001b[1;33m(\u001b[0m\u001b[1;33m[\u001b[0m\u001b[1;34m'batsman'\u001b[0m\u001b[1;33m]\u001b[0m\u001b[1;33m)\u001b[0m\u001b[1;33m.\u001b[0m\u001b[0mavg\u001b[0m\u001b[1;33m(\u001b[0m\u001b[1;33m)\u001b[0m\u001b[1;33m\u001b[0m\u001b[1;33m\u001b[0m\u001b[0m\n\u001b[0m",
      "\u001b[1;32m~\\anaconda3\\lib\\site-packages\\pandas\\core\\groupby\\groupby.py\u001b[0m in \u001b[0;36m__getattr__\u001b[1;34m(self, attr)\u001b[0m\n\u001b[0;32m    578\u001b[0m \u001b[1;33m\u001b[0m\u001b[0m\n\u001b[0;32m    579\u001b[0m         raise AttributeError(\n\u001b[1;32m--> 580\u001b[1;33m             \u001b[1;34mf\"'{type(self).__name__}' object has no attribute '{attr}'\"\u001b[0m\u001b[1;33m\u001b[0m\u001b[1;33m\u001b[0m\u001b[0m\n\u001b[0m\u001b[0;32m    581\u001b[0m         )\n\u001b[0;32m    582\u001b[0m \u001b[1;33m\u001b[0m\u001b[0m\n",
      "\u001b[1;31mAttributeError\u001b[0m: 'DataFrameGroupBy' object has no attribute 'avg'"
     ]
    }
   ],
   "source": [
    "batsmen.groupby(['batsman']).avg()"
   ]
  },
  {
   "cell_type": "code",
   "execution_count": 17,
   "metadata": {},
   "outputs": [],
   "source": [
    "b=IPL_Ball_data.groupby(['batsman','total_runs'])"
   ]
  },
  {
   "cell_type": "code",
   "execution_count": 18,
   "metadata": {},
   "outputs": [
    {
     "data": {
      "text/html": [
       "<div>\n",
       "<style scoped>\n",
       "    .dataframe tbody tr th:only-of-type {\n",
       "        vertical-align: middle;\n",
       "    }\n",
       "\n",
       "    .dataframe tbody tr th {\n",
       "        vertical-align: top;\n",
       "    }\n",
       "\n",
       "    .dataframe thead th {\n",
       "        text-align: right;\n",
       "    }\n",
       "</style>\n",
       "<table border=\"1\" class=\"dataframe\">\n",
       "  <thead>\n",
       "    <tr style=\"text-align: right;\">\n",
       "      <th></th>\n",
       "      <th></th>\n",
       "      <th>id</th>\n",
       "      <th>inning</th>\n",
       "      <th>over</th>\n",
       "      <th>ball</th>\n",
       "      <th>batsman_runs</th>\n",
       "      <th>extra_runs</th>\n",
       "      <th>non_boundary</th>\n",
       "      <th>is_wicket</th>\n",
       "    </tr>\n",
       "    <tr>\n",
       "      <th>batsman</th>\n",
       "      <th>total_runs</th>\n",
       "      <th></th>\n",
       "      <th></th>\n",
       "      <th></th>\n",
       "      <th></th>\n",
       "      <th></th>\n",
       "      <th></th>\n",
       "      <th></th>\n",
       "      <th></th>\n",
       "    </tr>\n",
       "  </thead>\n",
       "  <tbody>\n",
       "    <tr>\n",
       "      <th rowspan=\"5\" valign=\"top\">A Ashish Reddy</th>\n",
       "      <th>0</th>\n",
       "      <td>699466.089286</td>\n",
       "      <td>1.482143</td>\n",
       "      <td>14.892857</td>\n",
       "      <td>3.696429</td>\n",
       "      <td>0.000000</td>\n",
       "      <td>0.000000</td>\n",
       "      <td>0.0</td>\n",
       "      <td>0.250000</td>\n",
       "    </tr>\n",
       "    <tr>\n",
       "      <th>1</th>\n",
       "      <td>707201.367816</td>\n",
       "      <td>1.356322</td>\n",
       "      <td>16.252874</td>\n",
       "      <td>3.758621</td>\n",
       "      <td>0.954023</td>\n",
       "      <td>0.045977</td>\n",
       "      <td>0.0</td>\n",
       "      <td>0.011494</td>\n",
       "    </tr>\n",
       "    <tr>\n",
       "      <th>2</th>\n",
       "      <td>676760.250000</td>\n",
       "      <td>1.350000</td>\n",
       "      <td>16.500000</td>\n",
       "      <td>3.000000</td>\n",
       "      <td>2.000000</td>\n",
       "      <td>0.000000</td>\n",
       "      <td>0.0</td>\n",
       "      <td>0.000000</td>\n",
       "    </tr>\n",
       "    <tr>\n",
       "      <th>3</th>\n",
       "      <td>598030.000000</td>\n",
       "      <td>1.000000</td>\n",
       "      <td>16.000000</td>\n",
       "      <td>6.000000</td>\n",
       "      <td>3.000000</td>\n",
       "      <td>0.000000</td>\n",
       "      <td>0.0</td>\n",
       "      <td>0.000000</td>\n",
       "    </tr>\n",
       "    <tr>\n",
       "      <th>4</th>\n",
       "      <td>672277.529412</td>\n",
       "      <td>1.647059</td>\n",
       "      <td>16.117647</td>\n",
       "      <td>3.352941</td>\n",
       "      <td>3.764706</td>\n",
       "      <td>0.235294</td>\n",
       "      <td>0.0</td>\n",
       "      <td>0.000000</td>\n",
       "    </tr>\n",
       "    <tr>\n",
       "      <th>...</th>\n",
       "      <th>...</th>\n",
       "      <td>...</td>\n",
       "      <td>...</td>\n",
       "      <td>...</td>\n",
       "      <td>...</td>\n",
       "      <td>...</td>\n",
       "      <td>...</td>\n",
       "      <td>...</td>\n",
       "      <td>...</td>\n",
       "    </tr>\n",
       "    <tr>\n",
       "      <th rowspan=\"5\" valign=\"top\">Z Khan</th>\n",
       "      <th>0</th>\n",
       "      <td>595634.126761</td>\n",
       "      <td>1.619718</td>\n",
       "      <td>15.084507</td>\n",
       "      <td>3.816901</td>\n",
       "      <td>0.000000</td>\n",
       "      <td>0.000000</td>\n",
       "      <td>0.0</td>\n",
       "      <td>0.183099</td>\n",
       "    </tr>\n",
       "    <tr>\n",
       "      <th>1</th>\n",
       "      <td>517557.816327</td>\n",
       "      <td>1.673469</td>\n",
       "      <td>17.102041</td>\n",
       "      <td>3.612245</td>\n",
       "      <td>0.938776</td>\n",
       "      <td>0.061224</td>\n",
       "      <td>0.0</td>\n",
       "      <td>0.040816</td>\n",
       "    </tr>\n",
       "    <tr>\n",
       "      <th>2</th>\n",
       "      <td>445293.750000</td>\n",
       "      <td>1.500000</td>\n",
       "      <td>17.500000</td>\n",
       "      <td>3.875000</td>\n",
       "      <td>1.875000</td>\n",
       "      <td>0.125000</td>\n",
       "      <td>0.0</td>\n",
       "      <td>0.000000</td>\n",
       "    </tr>\n",
       "    <tr>\n",
       "      <th>4</th>\n",
       "      <td>466647.545455</td>\n",
       "      <td>1.363636</td>\n",
       "      <td>17.727273</td>\n",
       "      <td>3.454545</td>\n",
       "      <td>4.000000</td>\n",
       "      <td>0.000000</td>\n",
       "      <td>0.0</td>\n",
       "      <td>0.000000</td>\n",
       "    </tr>\n",
       "    <tr>\n",
       "      <th>6</th>\n",
       "      <td>574211.000000</td>\n",
       "      <td>1.000000</td>\n",
       "      <td>19.000000</td>\n",
       "      <td>4.000000</td>\n",
       "      <td>6.000000</td>\n",
       "      <td>0.000000</td>\n",
       "      <td>0.0</td>\n",
       "      <td>0.000000</td>\n",
       "    </tr>\n",
       "  </tbody>\n",
       "</table>\n",
       "<p>2616 rows × 8 columns</p>\n",
       "</div>"
      ],
      "text/plain": [
       "                                      id    inning       over      ball  \\\n",
       "batsman        total_runs                                                 \n",
       "A Ashish Reddy 0           699466.089286  1.482143  14.892857  3.696429   \n",
       "               1           707201.367816  1.356322  16.252874  3.758621   \n",
       "               2           676760.250000  1.350000  16.500000  3.000000   \n",
       "               3           598030.000000  1.000000  16.000000  6.000000   \n",
       "               4           672277.529412  1.647059  16.117647  3.352941   \n",
       "...                                  ...       ...        ...       ...   \n",
       "Z Khan         0           595634.126761  1.619718  15.084507  3.816901   \n",
       "               1           517557.816327  1.673469  17.102041  3.612245   \n",
       "               2           445293.750000  1.500000  17.500000  3.875000   \n",
       "               4           466647.545455  1.363636  17.727273  3.454545   \n",
       "               6           574211.000000  1.000000  19.000000  4.000000   \n",
       "\n",
       "                           batsman_runs  extra_runs  non_boundary  is_wicket  \n",
       "batsman        total_runs                                                     \n",
       "A Ashish Reddy 0               0.000000    0.000000           0.0   0.250000  \n",
       "               1               0.954023    0.045977           0.0   0.011494  \n",
       "               2               2.000000    0.000000           0.0   0.000000  \n",
       "               3               3.000000    0.000000           0.0   0.000000  \n",
       "               4               3.764706    0.235294           0.0   0.000000  \n",
       "...                                 ...         ...           ...        ...  \n",
       "Z Khan         0               0.000000    0.000000           0.0   0.183099  \n",
       "               1               0.938776    0.061224           0.0   0.040816  \n",
       "               2               1.875000    0.125000           0.0   0.000000  \n",
       "               4               4.000000    0.000000           0.0   0.000000  \n",
       "               6               6.000000    0.000000           0.0   0.000000  \n",
       "\n",
       "[2616 rows x 8 columns]"
      ]
     },
     "execution_count": 18,
     "metadata": {},
     "output_type": "execute_result"
    }
   ],
   "source": [
    "b.mean()"
   ]
  },
  {
   "cell_type": "code",
   "execution_count": 4,
   "metadata": {},
   "outputs": [],
   "source": [
    "IPL_match_data = pd.read_excel('Assignment.xlsx', sheet_name='IPL Matches 2008-2020', header=0)"
   ]
  },
  {
   "cell_type": "code",
   "execution_count": 5,
   "metadata": {},
   "outputs": [
    {
     "data": {
      "text/html": [
       "<div>\n",
       "<style scoped>\n",
       "    .dataframe tbody tr th:only-of-type {\n",
       "        vertical-align: middle;\n",
       "    }\n",
       "\n",
       "    .dataframe tbody tr th {\n",
       "        vertical-align: top;\n",
       "    }\n",
       "\n",
       "    .dataframe thead th {\n",
       "        text-align: right;\n",
       "    }\n",
       "</style>\n",
       "<table border=\"1\" class=\"dataframe\">\n",
       "  <thead>\n",
       "    <tr style=\"text-align: right;\">\n",
       "      <th></th>\n",
       "      <th>id</th>\n",
       "      <th>city</th>\n",
       "      <th>date</th>\n",
       "      <th>player_of_match</th>\n",
       "      <th>venue</th>\n",
       "      <th>neutral_venue</th>\n",
       "      <th>team1</th>\n",
       "      <th>team2</th>\n",
       "      <th>toss_winner</th>\n",
       "      <th>toss_decision</th>\n",
       "      <th>winner</th>\n",
       "      <th>result</th>\n",
       "      <th>result_margin</th>\n",
       "      <th>eliminator</th>\n",
       "      <th>method</th>\n",
       "      <th>umpire1</th>\n",
       "      <th>umpire2</th>\n",
       "    </tr>\n",
       "  </thead>\n",
       "  <tbody>\n",
       "    <tr>\n",
       "      <th>0</th>\n",
       "      <td>335982</td>\n",
       "      <td>Bangalore</td>\n",
       "      <td>2008-04-18</td>\n",
       "      <td>BB McCullum</td>\n",
       "      <td>M Chinnaswamy Stadium</td>\n",
       "      <td>0</td>\n",
       "      <td>Royal Challengers Bangalore</td>\n",
       "      <td>Kolkata Knight Riders</td>\n",
       "      <td>Royal Challengers Bangalore</td>\n",
       "      <td>field</td>\n",
       "      <td>Kolkata Knight Riders</td>\n",
       "      <td>runs</td>\n",
       "      <td>140.0</td>\n",
       "      <td>N</td>\n",
       "      <td>NaN</td>\n",
       "      <td>Asad Rauf</td>\n",
       "      <td>RE Koertzen</td>\n",
       "    </tr>\n",
       "    <tr>\n",
       "      <th>1</th>\n",
       "      <td>335983</td>\n",
       "      <td>Chandigarh</td>\n",
       "      <td>2008-04-19</td>\n",
       "      <td>MEK Hussey</td>\n",
       "      <td>Punjab Cricket Association Stadium, Mohali</td>\n",
       "      <td>0</td>\n",
       "      <td>Kings XI Punjab</td>\n",
       "      <td>Chennai Super Kings</td>\n",
       "      <td>Chennai Super Kings</td>\n",
       "      <td>bat</td>\n",
       "      <td>Chennai Super Kings</td>\n",
       "      <td>runs</td>\n",
       "      <td>33.0</td>\n",
       "      <td>N</td>\n",
       "      <td>NaN</td>\n",
       "      <td>MR Benson</td>\n",
       "      <td>SL Shastri</td>\n",
       "    </tr>\n",
       "    <tr>\n",
       "      <th>2</th>\n",
       "      <td>335984</td>\n",
       "      <td>Delhi</td>\n",
       "      <td>2008-04-19</td>\n",
       "      <td>MF Maharoof</td>\n",
       "      <td>Feroz Shah Kotla</td>\n",
       "      <td>0</td>\n",
       "      <td>Delhi Daredevils</td>\n",
       "      <td>Rajasthan Royals</td>\n",
       "      <td>Rajasthan Royals</td>\n",
       "      <td>bat</td>\n",
       "      <td>Delhi Daredevils</td>\n",
       "      <td>wickets</td>\n",
       "      <td>9.0</td>\n",
       "      <td>N</td>\n",
       "      <td>NaN</td>\n",
       "      <td>Aleem Dar</td>\n",
       "      <td>GA Pratapkumar</td>\n",
       "    </tr>\n",
       "    <tr>\n",
       "      <th>3</th>\n",
       "      <td>335985</td>\n",
       "      <td>Mumbai</td>\n",
       "      <td>2008-04-20</td>\n",
       "      <td>MV Boucher</td>\n",
       "      <td>Wankhede Stadium</td>\n",
       "      <td>0</td>\n",
       "      <td>Mumbai Indians</td>\n",
       "      <td>Royal Challengers Bangalore</td>\n",
       "      <td>Mumbai Indians</td>\n",
       "      <td>bat</td>\n",
       "      <td>Royal Challengers Bangalore</td>\n",
       "      <td>wickets</td>\n",
       "      <td>5.0</td>\n",
       "      <td>N</td>\n",
       "      <td>NaN</td>\n",
       "      <td>SJ Davis</td>\n",
       "      <td>DJ Harper</td>\n",
       "    </tr>\n",
       "    <tr>\n",
       "      <th>4</th>\n",
       "      <td>335986</td>\n",
       "      <td>Kolkata</td>\n",
       "      <td>2008-04-20</td>\n",
       "      <td>DJ Hussey</td>\n",
       "      <td>Eden Gardens</td>\n",
       "      <td>0</td>\n",
       "      <td>Kolkata Knight Riders</td>\n",
       "      <td>Deccan Chargers</td>\n",
       "      <td>Deccan Chargers</td>\n",
       "      <td>bat</td>\n",
       "      <td>Kolkata Knight Riders</td>\n",
       "      <td>wickets</td>\n",
       "      <td>5.0</td>\n",
       "      <td>N</td>\n",
       "      <td>NaN</td>\n",
       "      <td>BF Bowden</td>\n",
       "      <td>K Hariharan</td>\n",
       "    </tr>\n",
       "  </tbody>\n",
       "</table>\n",
       "</div>"
      ],
      "text/plain": [
       "       id        city       date player_of_match  \\\n",
       "0  335982   Bangalore 2008-04-18     BB McCullum   \n",
       "1  335983  Chandigarh 2008-04-19      MEK Hussey   \n",
       "2  335984       Delhi 2008-04-19     MF Maharoof   \n",
       "3  335985      Mumbai 2008-04-20      MV Boucher   \n",
       "4  335986     Kolkata 2008-04-20       DJ Hussey   \n",
       "\n",
       "                                        venue  neutral_venue  \\\n",
       "0                       M Chinnaswamy Stadium              0   \n",
       "1  Punjab Cricket Association Stadium, Mohali              0   \n",
       "2                            Feroz Shah Kotla              0   \n",
       "3                            Wankhede Stadium              0   \n",
       "4                                Eden Gardens              0   \n",
       "\n",
       "                         team1                        team2  \\\n",
       "0  Royal Challengers Bangalore        Kolkata Knight Riders   \n",
       "1              Kings XI Punjab          Chennai Super Kings   \n",
       "2             Delhi Daredevils             Rajasthan Royals   \n",
       "3               Mumbai Indians  Royal Challengers Bangalore   \n",
       "4        Kolkata Knight Riders              Deccan Chargers   \n",
       "\n",
       "                   toss_winner toss_decision                       winner  \\\n",
       "0  Royal Challengers Bangalore         field        Kolkata Knight Riders   \n",
       "1          Chennai Super Kings           bat          Chennai Super Kings   \n",
       "2             Rajasthan Royals           bat             Delhi Daredevils   \n",
       "3               Mumbai Indians           bat  Royal Challengers Bangalore   \n",
       "4              Deccan Chargers           bat        Kolkata Knight Riders   \n",
       "\n",
       "    result  result_margin eliminator method    umpire1         umpire2  \n",
       "0     runs          140.0          N    NaN  Asad Rauf     RE Koertzen  \n",
       "1     runs           33.0          N    NaN  MR Benson      SL Shastri  \n",
       "2  wickets            9.0          N    NaN  Aleem Dar  GA Pratapkumar  \n",
       "3  wickets            5.0          N    NaN   SJ Davis       DJ Harper  \n",
       "4  wickets            5.0          N    NaN  BF Bowden     K Hariharan  "
      ]
     },
     "execution_count": 5,
     "metadata": {},
     "output_type": "execute_result"
    }
   ],
   "source": [
    "IPL_match_data.head()"
   ]
  },
  {
   "cell_type": "code",
   "execution_count": 6,
   "metadata": {},
   "outputs": [
    {
     "name": "stdout",
     "output_type": "stream",
     "text": [
      "(193468, 18)\n",
      "(816, 17)\n"
     ]
    }
   ],
   "source": [
    "print(IPL_Ball_data.shape)\n",
    "print(IPL_match_data.shape)"
   ]
  },
  {
   "cell_type": "code",
   "execution_count": 7,
   "metadata": {},
   "outputs": [
    {
     "name": "stdout",
     "output_type": "stream",
     "text": [
      "<class 'pandas.core.frame.DataFrame'>\n",
      "RangeIndex: 193468 entries, 0 to 193467\n",
      "Data columns (total 18 columns):\n",
      " #   Column            Non-Null Count   Dtype \n",
      "---  ------            --------------   ----- \n",
      " 0   id                193468 non-null  int64 \n",
      " 1   inning            193468 non-null  int64 \n",
      " 2   over              193468 non-null  int64 \n",
      " 3   ball              193468 non-null  int64 \n",
      " 4   batsman           193468 non-null  object\n",
      " 5   non_striker       193468 non-null  object\n",
      " 6   bowler            193468 non-null  object\n",
      " 7   batsman_runs      193468 non-null  int64 \n",
      " 8   extra_runs        193468 non-null  int64 \n",
      " 9   total_runs        193468 non-null  int64 \n",
      " 10  non_boundary      193468 non-null  int64 \n",
      " 11  is_wicket         193468 non-null  int64 \n",
      " 12  dismissal_kind    9495 non-null    object\n",
      " 13  player_dismissed  9495 non-null    object\n",
      " 14  fielder           6784 non-null    object\n",
      " 15  extras_type       10233 non-null   object\n",
      " 16  batting_team      193468 non-null  object\n",
      " 17  bowling_team      193277 non-null  object\n",
      "dtypes: int64(9), object(9)\n",
      "memory usage: 26.6+ MB\n"
     ]
    }
   ],
   "source": [
    "IPL_Ball_data.info()"
   ]
  },
  {
   "cell_type": "code",
   "execution_count": 22,
   "metadata": {},
   "outputs": [
    {
     "name": "stdout",
     "output_type": "stream",
     "text": [
      "<class 'pandas.core.frame.DataFrame'>\n",
      "RangeIndex: 816 entries, 0 to 815\n",
      "Data columns (total 17 columns):\n",
      " #   Column           Non-Null Count  Dtype         \n",
      "---  ------           --------------  -----         \n",
      " 0   id               816 non-null    int64         \n",
      " 1   city             803 non-null    object        \n",
      " 2   date             816 non-null    datetime64[ns]\n",
      " 3   player_of_match  812 non-null    object        \n",
      " 4   venue            816 non-null    object        \n",
      " 5   neutral_venue    816 non-null    int64         \n",
      " 6   team1            816 non-null    object        \n",
      " 7   team2            816 non-null    object        \n",
      " 8   toss_winner      816 non-null    object        \n",
      " 9   toss_decision    816 non-null    object        \n",
      " 10  winner           812 non-null    object        \n",
      " 11  result           812 non-null    object        \n",
      " 12  result_margin    799 non-null    float64       \n",
      " 13  eliminator       812 non-null    object        \n",
      " 14  method           19 non-null     object        \n",
      " 15  umpire1          816 non-null    object        \n",
      " 16  umpire2          816 non-null    object        \n",
      "dtypes: datetime64[ns](1), float64(1), int64(2), object(13)\n",
      "memory usage: 108.5+ KB\n"
     ]
    }
   ],
   "source": [
    "IPL_match_data.info()"
   ]
  },
  {
   "cell_type": "code",
   "execution_count": 8,
   "metadata": {},
   "outputs": [],
   "source": [
    "IPL_match_data.drop(['umpire1','umpire2'],inplace=True, axis=1)"
   ]
  },
  {
   "cell_type": "markdown",
   "metadata": {},
   "source": [
    "#### Earlier we see that, we had two columns called umpire1 and umpire2 . But we do not need them in our analysis as many of their rows contained NaN values. So, we have discarded them and our dataset now contains 15 columns."
   ]
  },
  {
   "cell_type": "code",
   "execution_count": 24,
   "metadata": {},
   "outputs": [
    {
     "data": {
      "text/plain": [
       "Royal Challengers Bangalore    108\n",
       "Mumbai Indians                  97\n",
       "Kolkata Knight Riders           95\n",
       "Chennai Super Kings             94\n",
       "Kings XI Punjab                 92\n",
       "Delhi Daredevils                83\n",
       "Rajasthan Royals                70\n",
       "Sunrisers Hyderabad             59\n",
       "Deccan Chargers                 39\n",
       "Pune Warriors                   23\n",
       "Delhi Capitals                  19\n",
       "Gujarat Lions                   16\n",
       "Kochi Tuskers Kerala             7\n",
       "Rising Pune Supergiant           7\n",
       "Rising Pune Supergiants          7\n",
       "Name: team1, dtype: int64"
      ]
     },
     "execution_count": 24,
     "metadata": {},
     "output_type": "execute_result"
    }
   ],
   "source": [
    "IPL_match_data.team1.value_counts()"
   ]
  },
  {
   "cell_type": "code",
   "execution_count": 9,
   "metadata": {},
   "outputs": [],
   "source": [
    "IPL_match_data['team1'] = IPL_match_data['team1'].replace(['Rising Pune Supergiant'],'Rising Pune Supergiants')"
   ]
  },
  {
   "cell_type": "code",
   "execution_count": 10,
   "metadata": {},
   "outputs": [
    {
     "data": {
      "text/plain": [
       "Royal Challengers Bangalore    108\n",
       "Mumbai Indians                  97\n",
       "Kolkata Knight Riders           95\n",
       "Chennai Super Kings             94\n",
       "Kings XI Punjab                 92\n",
       "Delhi Daredevils                83\n",
       "Rajasthan Royals                70\n",
       "Sunrisers Hyderabad             59\n",
       "Deccan Chargers                 39\n",
       "Pune Warriors                   23\n",
       "Delhi Capitals                  19\n",
       "Gujarat Lions                   16\n",
       "Rising Pune Supergiants         14\n",
       "Kochi Tuskers Kerala             7\n",
       "Name: team1, dtype: int64"
      ]
     },
     "execution_count": 10,
     "metadata": {},
     "output_type": "execute_result"
    }
   ],
   "source": [
    "IPL_match_data.team1.value_counts()"
   ]
  },
  {
   "cell_type": "markdown",
   "metadata": {},
   "source": [
    "Replaced Rising Pune Supergiant with Rising Pune Supergiants as both the team names are same."
   ]
  },
  {
   "cell_type": "markdown",
   "metadata": {},
   "source": [
    "We can see that, these are the all teams that have played in the last 12 seasons of IPL. Few of them like Delhi Capitals, Gujarat Lions, Kochi Tuskers Kerala,Pune Warriors and Rising Pune Supergiants didn't play in more than 1-2 seasons. That's why their numbers are so low."
   ]
  },
  {
   "cell_type": "code",
   "execution_count": 27,
   "metadata": {},
   "outputs": [
    {
     "data": {
      "text/plain": [
       "wickets    435\n",
       "runs       364\n",
       "tie         13\n",
       "Name: result, dtype: int64"
      ]
     },
     "execution_count": 27,
     "metadata": {},
     "output_type": "execute_result"
    }
   ],
   "source": [
    "IPL_match_data.result.value_counts()"
   ]
  },
  {
   "cell_type": "markdown",
   "metadata": {},
   "source": [
    "Here we can see that 435 matches have won by the 2nd batting team (Won by wicktes) and 364 matches have won by the team batting 1st."
   ]
  },
  {
   "cell_type": "markdown",
   "metadata": {},
   "source": [
    "## Exploratory Data Analysis "
   ]
  },
  {
   "cell_type": "markdown",
   "metadata": {},
   "source": [
    "### Number of matches hosted in different cities "
   ]
  },
  {
   "cell_type": "code",
   "execution_count": 28,
   "metadata": {},
   "outputs": [
    {
     "data": {
      "text/plain": [
       "Mumbai            101\n",
       "Kolkata            77\n",
       "Delhi              74\n",
       "Bangalore          65\n",
       "Hyderabad          64\n",
       "Chennai            57\n",
       "Chandigarh         56\n",
       "Jaipur             47\n",
       "Pune               38\n",
       "Abu Dhabi          29\n",
       "Dubai              26\n",
       "Bengaluru          15\n",
       "Durban             15\n",
       "Visakhapatnam      13\n",
       "Ahmedabad          12\n",
       "Sharjah            12\n",
       "Centurion          12\n",
       "Rajkot             10\n",
       "Indore              9\n",
       "Dharamsala          9\n",
       "Johannesburg        8\n",
       "Cuttack             7\n",
       "Port Elizabeth      7\n",
       "Cape Town           7\n",
       "Ranchi              7\n",
       "Raipur              6\n",
       "Kochi               5\n",
       "Kanpur              4\n",
       "Kimberley           3\n",
       "Nagpur              3\n",
       "East London         3\n",
       "Bloemfontein        2\n",
       "Name: city, dtype: int64"
      ]
     },
     "execution_count": 28,
     "metadata": {},
     "output_type": "execute_result"
    }
   ],
   "source": [
    "city_host = IPL_match_data.city.value_counts()\n",
    "city_host"
   ]
  },
  {
   "cell_type": "code",
   "execution_count": 164,
   "metadata": {},
   "outputs": [
    {
     "data": {
      "image/png": "[encoded data removed]",
      "text/plain": [
       "<Figure size 1080x432 with 1 Axes>"
      ]
     },
     "metadata": {
      "needs_background": "light"
     },
     "output_type": "display_data"
    }
   ],
   "source": [
    "plt.figure(figsize=(15,6))\n",
    "plt.xticks(rotation=90)\n",
    "plt.title('Number of matches hosted')\n",
    "count=0\n",
    "cities=pd.DataFrame(city_host)\n",
    "cities['name']=city_host.index\n",
    "for i in cities['city']:\n",
    "    plt.text(count-0.4,i+1,str(i),color='black')\n",
    "    count+=1\n",
    "sns.barplot(city_host.index, city_host);\n",
    "plt.savefig('Number_of_mateches_hosted.png')"
   ]
  },
  {
   "cell_type": "markdown",
   "metadata": {},
   "source": [
    "So, we can see in the barplot that Mumbai has hosted the maximum number of IPL matches followed by Kolkata and Delhi."
   ]
  },
  {
   "cell_type": "markdown",
   "metadata": {},
   "source": [
    "### Maximum Runs Scored By Different Players In An Inning "
   ]
  },
  {
   "cell_type": "code",
   "execution_count": 72,
   "metadata": {},
   "outputs": [
    {
     "data": {
      "text/html": [
       "<div>\n",
       "<style scoped>\n",
       "    .dataframe tbody tr th:only-of-type {\n",
       "        vertical-align: middle;\n",
       "    }\n",
       "\n",
       "    .dataframe tbody tr th {\n",
       "        vertical-align: top;\n",
       "    }\n",
       "\n",
       "    .dataframe thead th {\n",
       "        text-align: right;\n",
       "    }\n",
       "</style>\n",
       "<table border=\"1\" class=\"dataframe\">\n",
       "  <thead>\n",
       "    <tr style=\"text-align: right;\">\n",
       "      <th></th>\n",
       "      <th>id</th>\n",
       "      <th>batsman</th>\n",
       "      <th>Innings Runs</th>\n",
       "      <th>Balls Faced</th>\n",
       "      <th>batting_team</th>\n",
       "      <th>bowling_team</th>\n",
       "    </tr>\n",
       "  </thead>\n",
       "  <tbody>\n",
       "    <tr>\n",
       "      <th>0</th>\n",
       "      <td>598027</td>\n",
       "      <td>CH Gayle</td>\n",
       "      <td>175</td>\n",
       "      <td>69</td>\n",
       "      <td>Royal Challengers Bangalore</td>\n",
       "      <td>Pune Warriors</td>\n",
       "    </tr>\n",
       "    <tr>\n",
       "      <th>69</th>\n",
       "      <td>335982</td>\n",
       "      <td>BB McCullum</td>\n",
       "      <td>158</td>\n",
       "      <td>77</td>\n",
       "      <td>Kolkata Knight Riders</td>\n",
       "      <td>Royal Challengers Bangalore</td>\n",
       "    </tr>\n",
       "    <tr>\n",
       "      <th>146</th>\n",
       "      <td>829795</td>\n",
       "      <td>AB de Villiers</td>\n",
       "      <td>133</td>\n",
       "      <td>61</td>\n",
       "      <td>Royal Challengers Bangalore</td>\n",
       "      <td>Mumbai Indians</td>\n",
       "    </tr>\n",
       "    <tr>\n",
       "      <th>207</th>\n",
       "      <td>1216510</td>\n",
       "      <td>KL Rahul</td>\n",
       "      <td>132</td>\n",
       "      <td>70</td>\n",
       "      <td>Kings XI Punjab</td>\n",
       "      <td>Royal Challengers Bangalore</td>\n",
       "    </tr>\n",
       "    <tr>\n",
       "      <th>277</th>\n",
       "      <td>980987</td>\n",
       "      <td>AB de Villiers</td>\n",
       "      <td>129</td>\n",
       "      <td>53</td>\n",
       "      <td>Royal Challengers Bangalore</td>\n",
       "      <td>Gujarat Lions</td>\n",
       "    </tr>\n",
       "    <tr>\n",
       "      <th>330</th>\n",
       "      <td>548372</td>\n",
       "      <td>CH Gayle</td>\n",
       "      <td>128</td>\n",
       "      <td>62</td>\n",
       "      <td>Royal Challengers Bangalore</td>\n",
       "      <td>Delhi Daredevils</td>\n",
       "    </tr>\n",
       "    <tr>\n",
       "      <th>392</th>\n",
       "      <td>1136602</td>\n",
       "      <td>RR Pant</td>\n",
       "      <td>128</td>\n",
       "      <td>64</td>\n",
       "      <td>Delhi Daredevils</td>\n",
       "      <td>Sunrisers Hyderabad</td>\n",
       "    </tr>\n",
       "    <tr>\n",
       "      <th>456</th>\n",
       "      <td>419137</td>\n",
       "      <td>M Vijay</td>\n",
       "      <td>127</td>\n",
       "      <td>57</td>\n",
       "      <td>Chennai Super Kings</td>\n",
       "      <td>Rajasthan Royals</td>\n",
       "    </tr>\n",
       "    <tr>\n",
       "      <th>513</th>\n",
       "      <td>1082627</td>\n",
       "      <td>DA Warner</td>\n",
       "      <td>126</td>\n",
       "      <td>60</td>\n",
       "      <td>Sunrisers Hyderabad</td>\n",
       "      <td>Kolkata Knight Riders</td>\n",
       "    </tr>\n",
       "    <tr>\n",
       "      <th>573</th>\n",
       "      <td>734047</td>\n",
       "      <td>V Sehwag</td>\n",
       "      <td>122</td>\n",
       "      <td>62</td>\n",
       "      <td>Kings XI Punjab</td>\n",
       "      <td>Chennai Super Kings</td>\n",
       "    </tr>\n",
       "  </tbody>\n",
       "</table>\n",
       "</div>"
      ],
      "text/plain": [
       "          id         batsman  Innings Runs  Balls Faced  \\\n",
       "0     598027        CH Gayle           175           69   \n",
       "69    335982     BB McCullum           158           77   \n",
       "146   829795  AB de Villiers           133           61   \n",
       "207  1216510        KL Rahul           132           70   \n",
       "277   980987  AB de Villiers           129           53   \n",
       "330   548372        CH Gayle           128           62   \n",
       "392  1136602         RR Pant           128           64   \n",
       "456   419137         M Vijay           127           57   \n",
       "513  1082627       DA Warner           126           60   \n",
       "573   734047        V Sehwag           122           62   \n",
       "\n",
       "                    batting_team                 bowling_team  \n",
       "0    Royal Challengers Bangalore                Pune Warriors  \n",
       "69         Kolkata Knight Riders  Royal Challengers Bangalore  \n",
       "146  Royal Challengers Bangalore               Mumbai Indians  \n",
       "207              Kings XI Punjab  Royal Challengers Bangalore  \n",
       "277  Royal Challengers Bangalore                Gujarat Lions  \n",
       "330  Royal Challengers Bangalore             Delhi Daredevils  \n",
       "392             Delhi Daredevils          Sunrisers Hyderabad  \n",
       "456          Chennai Super Kings             Rajasthan Royals  \n",
       "513          Sunrisers Hyderabad        Kolkata Knight Riders  \n",
       "573              Kings XI Punjab          Chennai Super Kings  "
      ]
     },
     "execution_count": 72,
     "metadata": {},
     "output_type": "execute_result"
    }
   ],
   "source": [
    "batting_ings = IPL_Ball_data.groupby(['id','batsman']).apply(lambda x : np.sum(x['batsman_runs'])).reset_index(name='Innings Runs')\n",
    "sorted_batting_ings = batting_ings.sort_values(by='Innings Runs',ascending=False)\n",
    "top_batsmen_scores = sorted_batting_ings[:10] \n",
    "ball_faced = IPL_Ball_data.groupby(['id','batsman']).apply(lambda x : x['batsman_runs'].count()).reset_index(name='Balls Faced')\n",
    "batsmen_performance = pd.merge(top_batsmen_scores, ball_faced, how='inner', left_on=['id','batsman'], right_on=['id','batsman'])\n",
    "batsmen_performance['Strike Rate for Match'] = batsmen_performance['Innings Runs']*100 / batsmen_performance['Balls Faced']\n",
    "batsmen_innings = pd.merge(batsmen_performance, IPL_Ball_data, how='inner',left_on=['id','batsman'],right_on=['id','batsman'])\n",
    "batsmen_innings_table = batsmen_innings.iloc[:,[0,1,2,3,19,20]]\n",
    "batsmen_innings_table2 = batsmen_innings_table.drop_duplicates()\n",
    "batsmen_innings_table.drop_duplicates()"
   ]
  },
  {
   "cell_type": "code",
   "execution_count": 165,
   "metadata": {},
   "outputs": [
    {
     "data": {
      "image/png": "[encoded data removed]",
      "text/plain": [
       "<Figure size 864x432 with 1 Axes>"
      ]
     },
     "metadata": {
      "needs_background": "light"
     },
     "output_type": "display_data"
    }
   ],
   "source": [
    "x=batsmen_innings_table2['batsman']\n",
    "y1=batsmen_innings_table2['Innings Runs']\n",
    "plt.figure(figsize=(12,6))\n",
    "plt.bar(x,y1)\n",
    "plt.xlabel('Batsmen',size=15)\n",
    "plt.ylabel('Innings Score',size=15)\n",
    "plt.title('IPL Best batting performances in an Inning')\n",
    "plt.xticks(rotation=60)\n",
    "plt.legend(['Runs']);\n",
    "plt.savefig('Best batting performance in an innings.png')"
   ]
  },
  {
   "cell_type": "markdown",
   "metadata": {},
   "source": [
    "We can see that Chris Gayle is the one who has scored the maximum runs(175*) in a match followed by Brendon McCullum and AB de Villiers.\n",
    "\n",
    "Well, if you are an IPL fan, you must have been aware of this Gayle Storm that hit the Chinnaswamy Stadium on April 23,2013. Gayle scored an unbeaten 175 against Pune Warriors with 17 sixes and 13 fours in just 66 balls and a strike rate of 265.15 . Isn't that something the Universe Boss can only do??"
   ]
  },
  {
   "cell_type": "markdown",
   "metadata": {},
   "source": [
    "### Maximum Wickets taken by bowlers in last 12 seasons "
   ]
  },
  {
   "cell_type": "code",
   "execution_count": 82,
   "metadata": {},
   "outputs": [
    {
     "data": {
      "text/html": [
       "<div>\n",
       "<style scoped>\n",
       "    .dataframe tbody tr th:only-of-type {\n",
       "        vertical-align: middle;\n",
       "    }\n",
       "\n",
       "    .dataframe tbody tr th {\n",
       "        vertical-align: top;\n",
       "    }\n",
       "\n",
       "    .dataframe thead th {\n",
       "        text-align: right;\n",
       "    }\n",
       "</style>\n",
       "<table border=\"1\" class=\"dataframe\">\n",
       "  <thead>\n",
       "    <tr style=\"text-align: right;\">\n",
       "      <th></th>\n",
       "      <th>bowler</th>\n",
       "      <th>Wickets</th>\n",
       "    </tr>\n",
       "  </thead>\n",
       "  <tbody>\n",
       "    <tr>\n",
       "      <th>297</th>\n",
       "      <td>SL Malinga</td>\n",
       "      <td>170</td>\n",
       "    </tr>\n",
       "    <tr>\n",
       "      <th>5</th>\n",
       "      <td>A Mishra</td>\n",
       "      <td>160</td>\n",
       "    </tr>\n",
       "    <tr>\n",
       "      <th>235</th>\n",
       "      <td>PP Chawla</td>\n",
       "      <td>156</td>\n",
       "    </tr>\n",
       "    <tr>\n",
       "      <th>85</th>\n",
       "      <td>DJ Bravo</td>\n",
       "      <td>153</td>\n",
       "    </tr>\n",
       "    <tr>\n",
       "      <th>115</th>\n",
       "      <td>Harbhajan Singh</td>\n",
       "      <td>150</td>\n",
       "    </tr>\n",
       "    <tr>\n",
       "      <th>240</th>\n",
       "      <td>R Ashwin</td>\n",
       "      <td>138</td>\n",
       "    </tr>\n",
       "    <tr>\n",
       "      <th>50</th>\n",
       "      <td>B Kumar</td>\n",
       "      <td>136</td>\n",
       "    </tr>\n",
       "    <tr>\n",
       "      <th>304</th>\n",
       "      <td>SP Narine</td>\n",
       "      <td>127</td>\n",
       "    </tr>\n",
       "    <tr>\n",
       "      <th>357</th>\n",
       "      <td>YS Chahal</td>\n",
       "      <td>121</td>\n",
       "    </tr>\n",
       "    <tr>\n",
       "      <th>338</th>\n",
       "      <td>UT Yadav</td>\n",
       "      <td>119</td>\n",
       "    </tr>\n",
       "  </tbody>\n",
       "</table>\n",
       "</div>"
      ],
      "text/plain": [
       "              bowler  Wickets\n",
       "297       SL Malinga      170\n",
       "5           A Mishra      160\n",
       "235        PP Chawla      156\n",
       "85          DJ Bravo      153\n",
       "115  Harbhajan Singh      150\n",
       "240         R Ashwin      138\n",
       "50           B Kumar      136\n",
       "304        SP Narine      127\n",
       "357        YS Chahal      121\n",
       "338         UT Yadav      119"
      ]
     },
     "execution_count": 82,
     "metadata": {},
     "output_type": "execute_result"
    }
   ],
   "source": [
    "some_values = ['run out','retired hurt','obstructing the field']\n",
    "bowling_wickets = IPL_Ball_data.loc[~IPL_Ball_data['dismissal_kind'].isin(some_values)] \n",
    "bowling_total = bowling_wickets.groupby('bowler').apply(lambda x : x['dismissal_kind'].dropna()).reset_index(name='Wickets')\n",
    "bowling_wicket_count = bowling_total.groupby('bowler').count().reset_index()\n",
    "bowling_top = bowling_wicket_count.sort_values(by='Wickets',ascending=False)\n",
    "top_bowlers = bowling_top.loc[:,['bowler','Wickets']][0:10]\n",
    "top_bowlers"
   ]
  },
  {
   "cell_type": "markdown",
   "metadata": {},
   "source": [
    "We should exclude run out,retired hurt and obstructing the field as these will not count the wickets taken by the bowler "
   ]
  },
  {
   "cell_type": "code",
   "execution_count": 167,
   "metadata": {},
   "outputs": [
    {
     "data": {
      "image/png": "[encoded data removed]",
      "text/plain": [
       "<Figure size 864x432 with 1 Axes>"
      ]
     },
     "metadata": {
      "needs_background": "light"
     },
     "output_type": "display_data"
    }
   ],
   "source": [
    "plt.figure(figsize=(12,6))\n",
    "plt.bar(top_bowlers['bowler'],top_bowlers['Wickets'],color='green');\n",
    "plt.plot(top_bowlers['bowler'],top_bowlers['Wickets'],color='blue');\n",
    "plt.xticks(rotation=60)\n",
    "plt.xlabel('Top 10 Bowlers')\n",
    "plt.ylabel('Wickets Taken')\n",
    "plt.title('Top 10 Bowlers in last 12 seasons');\n",
    "plt.savefig('Top 10 Bowlers in last 12 seasons.png')"
   ]
  },
  {
   "cell_type": "markdown",
   "metadata": {},
   "source": [
    "Lasith Malinga, the Sri Lankan fast bowler, has taken the maximum number(170) wickets in the last 12 seasons of the IPL, followed by Amit Mishra and P Chawla."
   ]
  },
  {
   "cell_type": "markdown",
   "metadata": {},
   "source": [
    "### Matches Played vs Matches Won "
   ]
  },
  {
   "cell_type": "code",
   "execution_count": 86,
   "metadata": {},
   "outputs": [],
   "source": [
    "matches_played=pd.concat([IPL_match_data['team1'],IPL_match_data['team2']])\n",
    "matches_played=matches_played.value_counts().reset_index()\n",
    "matches_played.columns=['Team','Total Matches']\n",
    "matches_played['wins']=IPL_match_data['winner'].value_counts().reset_index()['winner']\n",
    "\n",
    "matches_played.set_index('Team',inplace=True)"
   ]
  },
  {
   "cell_type": "code",
   "execution_count": 87,
   "metadata": {},
   "outputs": [
    {
     "data": {
      "text/html": [
       "<div>\n",
       "<style scoped>\n",
       "    .dataframe tbody tr th:only-of-type {\n",
       "        vertical-align: middle;\n",
       "    }\n",
       "\n",
       "    .dataframe tbody tr th {\n",
       "        vertical-align: top;\n",
       "    }\n",
       "\n",
       "    .dataframe thead th {\n",
       "        text-align: right;\n",
       "    }\n",
       "</style>\n",
       "<table border=\"1\" class=\"dataframe\">\n",
       "  <thead>\n",
       "    <tr style=\"text-align: right;\">\n",
       "      <th></th>\n",
       "      <th>Team</th>\n",
       "      <th>Total Matches</th>\n",
       "      <th>wins</th>\n",
       "    </tr>\n",
       "  </thead>\n",
       "  <tbody>\n",
       "    <tr>\n",
       "      <th>0</th>\n",
       "      <td>Mumbai Indians</td>\n",
       "      <td>203</td>\n",
       "      <td>120</td>\n",
       "    </tr>\n",
       "    <tr>\n",
       "      <th>1</th>\n",
       "      <td>Royal Challengers Bangalore</td>\n",
       "      <td>195</td>\n",
       "      <td>106</td>\n",
       "    </tr>\n",
       "    <tr>\n",
       "      <th>2</th>\n",
       "      <td>Kolkata Knight Riders</td>\n",
       "      <td>192</td>\n",
       "      <td>99</td>\n",
       "    </tr>\n",
       "    <tr>\n",
       "      <th>3</th>\n",
       "      <td>Kings XI Punjab</td>\n",
       "      <td>190</td>\n",
       "      <td>91</td>\n",
       "    </tr>\n",
       "    <tr>\n",
       "      <th>4</th>\n",
       "      <td>Chennai Super Kings</td>\n",
       "      <td>178</td>\n",
       "      <td>88</td>\n",
       "    </tr>\n",
       "    <tr>\n",
       "      <th>5</th>\n",
       "      <td>Delhi Daredevils</td>\n",
       "      <td>161</td>\n",
       "      <td>81</td>\n",
       "    </tr>\n",
       "    <tr>\n",
       "      <th>6</th>\n",
       "      <td>Rajasthan Royals</td>\n",
       "      <td>161</td>\n",
       "      <td>67</td>\n",
       "    </tr>\n",
       "    <tr>\n",
       "      <th>7</th>\n",
       "      <td>Sunrisers Hyderabad</td>\n",
       "      <td>124</td>\n",
       "      <td>66</td>\n",
       "    </tr>\n",
       "    <tr>\n",
       "      <th>8</th>\n",
       "      <td>Deccan Chargers</td>\n",
       "      <td>75</td>\n",
       "      <td>29</td>\n",
       "    </tr>\n",
       "    <tr>\n",
       "      <th>9</th>\n",
       "      <td>Pune Warriors</td>\n",
       "      <td>46</td>\n",
       "      <td>19</td>\n",
       "    </tr>\n",
       "    <tr>\n",
       "      <th>10</th>\n",
       "      <td>Delhi Capitals</td>\n",
       "      <td>33</td>\n",
       "      <td>13</td>\n",
       "    </tr>\n",
       "    <tr>\n",
       "      <th>11</th>\n",
       "      <td>Gujarat Lions</td>\n",
       "      <td>30</td>\n",
       "      <td>12</td>\n",
       "    </tr>\n",
       "    <tr>\n",
       "      <th>12</th>\n",
       "      <td>Rising Pune Supergiants</td>\n",
       "      <td>21</td>\n",
       "      <td>10</td>\n",
       "    </tr>\n",
       "    <tr>\n",
       "      <th>13</th>\n",
       "      <td>Kochi Tuskers Kerala</td>\n",
       "      <td>14</td>\n",
       "      <td>6</td>\n",
       "    </tr>\n",
       "    <tr>\n",
       "      <th>14</th>\n",
       "      <td>Rising Pune Supergiant</td>\n",
       "      <td>9</td>\n",
       "      <td>5</td>\n",
       "    </tr>\n",
       "  </tbody>\n",
       "</table>\n",
       "</div>"
      ],
      "text/plain": [
       "                           Team  Total Matches  wins\n",
       "0                Mumbai Indians            203   120\n",
       "1   Royal Challengers Bangalore            195   106\n",
       "2         Kolkata Knight Riders            192    99\n",
       "3               Kings XI Punjab            190    91\n",
       "4           Chennai Super Kings            178    88\n",
       "5              Delhi Daredevils            161    81\n",
       "6              Rajasthan Royals            161    67\n",
       "7           Sunrisers Hyderabad            124    66\n",
       "8               Deccan Chargers             75    29\n",
       "9                 Pune Warriors             46    19\n",
       "10               Delhi Capitals             33    13\n",
       "11                Gujarat Lions             30    12\n",
       "12      Rising Pune Supergiants             21    10\n",
       "13         Kochi Tuskers Kerala             14     6\n",
       "14       Rising Pune Supergiant              9     5"
      ]
     },
     "execution_count": 87,
     "metadata": {},
     "output_type": "execute_result"
    }
   ],
   "source": [
    "matches_played.reset_index()"
   ]
  },
  {
   "cell_type": "code",
   "execution_count": 88,
   "metadata": {},
   "outputs": [
    {
     "data": {
      "text/plain": [
       "Team\n",
       "Mumbai Indians                 59.1\n",
       "Royal Challengers Bangalore    54.4\n",
       "Kolkata Knight Riders          51.6\n",
       "Kings XI Punjab                47.9\n",
       "Chennai Super Kings            49.4\n",
       "Delhi Daredevils               50.3\n",
       "Rajasthan Royals               41.6\n",
       "Sunrisers Hyderabad            53.2\n",
       "Deccan Chargers                38.7\n",
       "Pune Warriors                  41.3\n",
       "Delhi Capitals                 39.4\n",
       "Gujarat Lions                  40.0\n",
       "Rising Pune Supergiants        47.6\n",
       "Kochi Tuskers Kerala           42.9\n",
       "Rising Pune Supergiant         55.6\n",
       "dtype: float64"
      ]
     },
     "execution_count": 88,
     "metadata": {},
     "output_type": "execute_result"
    }
   ],
   "source": [
    "win_percentage = round(matches_played['wins']/matches_played['Total Matches'],3)*100\n",
    "win_percentage"
   ]
  },
  {
   "cell_type": "markdown",
   "metadata": {},
   "source": [
    "Winning Percentages says everything that why Mumbai Indians is called as Champian team and the only team to win the IPL trophy 5 times."
   ]
  },
  {
   "cell_type": "markdown",
   "metadata": {},
   "source": [
    "### Maximum Runs Scored By A Team "
   ]
  },
  {
   "cell_type": "code",
   "execution_count": 92,
   "metadata": {},
   "outputs": [
    {
     "data": {
      "text/html": [
       "<div>\n",
       "<style scoped>\n",
       "    .dataframe tbody tr th:only-of-type {\n",
       "        vertical-align: middle;\n",
       "    }\n",
       "\n",
       "    .dataframe tbody tr th {\n",
       "        vertical-align: top;\n",
       "    }\n",
       "\n",
       "    .dataframe thead th {\n",
       "        text-align: right;\n",
       "    }\n",
       "</style>\n",
       "<table border=\"1\" class=\"dataframe\">\n",
       "  <thead>\n",
       "    <tr style=\"text-align: right;\">\n",
       "      <th></th>\n",
       "      <th>id</th>\n",
       "      <th>batting_team</th>\n",
       "      <th>bowling_team</th>\n",
       "      <th>total_runs</th>\n",
       "    </tr>\n",
       "  </thead>\n",
       "  <tbody>\n",
       "    <tr>\n",
       "      <th>701</th>\n",
       "      <td>598027</td>\n",
       "      <td>Royal Challengers Bangalore</td>\n",
       "      <td>Pune Warriors</td>\n",
       "      <td>263</td>\n",
       "    </tr>\n",
       "    <tr>\n",
       "      <th>1117</th>\n",
       "      <td>980987</td>\n",
       "      <td>Royal Challengers Bangalore</td>\n",
       "      <td>Gujarat Lions</td>\n",
       "      <td>248</td>\n",
       "    </tr>\n",
       "    <tr>\n",
       "      <th>292</th>\n",
       "      <td>419137</td>\n",
       "      <td>Chennai Super Kings</td>\n",
       "      <td>Rajasthan Royals</td>\n",
       "      <td>246</td>\n",
       "    </tr>\n",
       "    <tr>\n",
       "      <th>1355</th>\n",
       "      <td>1136604</td>\n",
       "      <td>Kolkata Knight Riders</td>\n",
       "      <td>Kings XI Punjab</td>\n",
       "      <td>245</td>\n",
       "    </tr>\n",
       "    <tr>\n",
       "      <th>2</th>\n",
       "      <td>335983</td>\n",
       "      <td>Chennai Super Kings</td>\n",
       "      <td>Kings XI Punjab</td>\n",
       "      <td>240</td>\n",
       "    </tr>\n",
       "    <tr>\n",
       "      <th>1001</th>\n",
       "      <td>829795</td>\n",
       "      <td>Royal Challengers Bangalore</td>\n",
       "      <td>Mumbai Indians</td>\n",
       "      <td>235</td>\n",
       "    </tr>\n",
       "    <tr>\n",
       "      <th>472</th>\n",
       "      <td>501260</td>\n",
       "      <td>Kings XI Punjab</td>\n",
       "      <td>Royal Challengers Bangalore</td>\n",
       "      <td>232</td>\n",
       "    </tr>\n",
       "    <tr>\n",
       "      <th>1480</th>\n",
       "      <td>1178422</td>\n",
       "      <td>Kolkata Knight Riders</td>\n",
       "      <td>Mumbai Indians</td>\n",
       "      <td>232</td>\n",
       "    </tr>\n",
       "    <tr>\n",
       "      <th>398</th>\n",
       "      <td>501223</td>\n",
       "      <td>Delhi Daredevils</td>\n",
       "      <td>Kings XI Punjab</td>\n",
       "      <td>231</td>\n",
       "    </tr>\n",
       "    <tr>\n",
       "      <th>851</th>\n",
       "      <td>733987</td>\n",
       "      <td>Kings XI Punjab</td>\n",
       "      <td>Chennai Super Kings</td>\n",
       "      <td>231</td>\n",
       "    </tr>\n",
       "  </tbody>\n",
       "</table>\n",
       "</div>"
      ],
      "text/plain": [
       "           id                 batting_team                 bowling_team  \\\n",
       "701    598027  Royal Challengers Bangalore                Pune Warriors   \n",
       "1117   980987  Royal Challengers Bangalore                Gujarat Lions   \n",
       "292    419137          Chennai Super Kings             Rajasthan Royals   \n",
       "1355  1136604        Kolkata Knight Riders              Kings XI Punjab   \n",
       "2      335983          Chennai Super Kings              Kings XI Punjab   \n",
       "1001   829795  Royal Challengers Bangalore               Mumbai Indians   \n",
       "472    501260              Kings XI Punjab  Royal Challengers Bangalore   \n",
       "1480  1178422        Kolkata Knight Riders               Mumbai Indians   \n",
       "398    501223             Delhi Daredevils              Kings XI Punjab   \n",
       "851    733987              Kings XI Punjab          Chennai Super Kings   \n",
       "\n",
       "      total_runs  \n",
       "701          263  \n",
       "1117         248  \n",
       "292          246  \n",
       "1355         245  \n",
       "2            240  \n",
       "1001         235  \n",
       "472          232  \n",
       "1480         232  \n",
       "398          231  \n",
       "851          231  "
      ]
     },
     "execution_count": 92,
     "metadata": {},
     "output_type": "execute_result"
    }
   ],
   "source": [
    "high_scores = IPL_Ball_data.groupby(['id','batting_team','bowling_team'])['total_runs'].sum().reset_index() \n",
    "high_scores = high_scores[high_scores['total_runs']>=200]\n",
    "high_scores.nlargest(10,'total_runs')"
   ]
  },
  {
   "cell_type": "markdown",
   "metadata": {},
   "source": [
    "Royal Challengers Bangalore has scored the maximum runs in one innings against Pune Warriors India, followed by Kolkata Knight Riders against Kings XI Punjab and then again Royal Challengers Bangalore against Gujarat Lions.\n",
    "\n",
    "Well, the match in which RCB scored 263 runs is the same match win which Chris Gayle scored unbeated 175."
   ]
  },
  {
   "cell_type": "code",
   "execution_count": 93,
   "metadata": {},
   "outputs": [
    {
     "data": {
      "text/plain": [
       "Mumbai Indians                 120\n",
       "Chennai Super Kings            106\n",
       "Kolkata Knight Riders           99\n",
       "Royal Challengers Bangalore     91\n",
       "Kings XI Punjab                 88\n",
       "Rajasthan Royals                81\n",
       "Delhi Daredevils                67\n",
       "Sunrisers Hyderabad             66\n",
       "Deccan Chargers                 29\n",
       "Delhi Capitals                  19\n",
       "Gujarat Lions                   13\n",
       "Pune Warriors                   12\n",
       "Rising Pune Supergiant          10\n",
       "Kochi Tuskers Kerala             6\n",
       "Rising Pune Supergiants          5\n",
       "Name: winner, dtype: int64"
      ]
     },
     "execution_count": 93,
     "metadata": {},
     "output_type": "execute_result"
    }
   ],
   "source": [
    "winner = IPL_match_data.winner.value_counts()\n",
    "winner"
   ]
  },
  {
   "cell_type": "markdown",
   "metadata": {},
   "source": [
    "We can see that Mumbai Indians have won the maximum number of matches in the last 12 seasons of IPL, followed by Chennai Super Kings and Kolkata Knight Riders. So, we may say that Mumbai Indians has been the most successful team in the IPL"
   ]
  },
  {
   "cell_type": "code",
   "execution_count": 168,
   "metadata": {},
   "outputs": [
    {
     "data": {
      "image/png": "[encoded data removed]",
      "text/plain": [
       "<Figure size 864x432 with 1 Axes>"
      ]
     },
     "metadata": {
      "needs_background": "light"
     },
     "output_type": "display_data"
    }
   ],
   "source": [
    "plt.figure(figsize=(12,6))\n",
    "plt.xticks(rotation=75)\n",
    "plt.title('Which team won the maximum number of matches in all seasons?')\n",
    "sns.barplot(winner.index, winner);\n",
    "plt.savefig('Team winning max no of matches.png')"
   ]
  },
  {
   "cell_type": "code",
   "execution_count": 98,
   "metadata": {},
   "outputs": [
    {
     "data": {
      "text/plain": [
       "AB de Villiers    23\n",
       "CH Gayle          22\n",
       "RG Sharma         18\n",
       "MS Dhoni          17\n",
       "DA Warner         17\n",
       "YK Pathan         16\n",
       "SR Watson         16\n",
       "SK Raina          14\n",
       "G Gambhir         13\n",
       "V Kohli           13\n",
       "Name: player_of_match, dtype: int64"
      ]
     },
     "execution_count": 98,
     "metadata": {},
     "output_type": "execute_result"
    }
   ],
   "source": [
    "MOM = IPL_match_data.player_of_match.value_counts()\n",
    "MOM[:10]"
   ]
  },
  {
   "cell_type": "code",
   "execution_count": 169,
   "metadata": {},
   "outputs": [
    {
     "data": {
      "image/png": "[encoded data removed]",
      "text/plain": [
       "<Figure size 864x432 with 1 Axes>"
      ]
     },
     "metadata": {
      "needs_background": "light"
     },
     "output_type": "display_data"
    }
   ],
   "source": [
    "MOM_10 = MOM[:10]\n",
    "plt.figure(figsize=(12,6))\n",
    "plt.xticks(rotation=75)\n",
    "plt.title('Top 10 players with most number of Man of the Match title')\n",
    "sns.barplot(MOM_10.index, MOM_10);\n",
    "plt.savefig('Top 10 players with most no of MOM.png')"
   ]
  },
  {
   "cell_type": "markdown",
   "metadata": {},
   "source": [
    "Whoh! Mr. 360 AB de Villiers has become Man of the Match most number of times, followed by The Universe Boss Chris Gayle ,our very own Hitman Rohit Sharma, Thalaiva MS Dhoni and Reverend David Warner."
   ]
  },
  {
   "cell_type": "code",
   "execution_count": 99,
   "metadata": {},
   "outputs": [
    {
     "data": {
      "text/plain": [
       "True     418\n",
       "False    398\n",
       "dtype: int64"
      ]
     },
     "execution_count": 99,
     "metadata": {},
     "output_type": "execute_result"
    }
   ],
   "source": [
    "win = IPL_match_data.winner == IPL_match_data.toss_winner\n",
    "win_counts = win.value_counts()\n",
    "win_counts"
   ]
  },
  {
   "cell_type": "code",
   "execution_count": 100,
   "metadata": {},
   "outputs": [
    {
     "data": {
      "text/plain": [
       "True     51.23\n",
       "False    48.77\n",
       "dtype: float64"
      ]
     },
     "execution_count": 100,
     "metadata": {},
     "output_type": "execute_result"
    }
   ],
   "source": [
    "round((win_counts/win.count())*100,2)"
   ]
  },
  {
   "cell_type": "markdown",
   "metadata": {},
   "source": [
    "Out of 816 matches in the last 12 seasons, we can see that the toss winning team has won the match 418 times but has lost the match 398 times. Well, the difference is not that much.\n",
    "\n",
    "Let's see the data in percentage first and then plot a pie chart for it."
   ]
  },
  {
   "cell_type": "code",
   "execution_count": 170,
   "metadata": {},
   "outputs": [
    {
     "data": {
      "image/png": "[encoded data removed]",
      "text/plain": [
       "<Figure size 864x432 with 1 Axes>"
      ]
     },
     "metadata": {},
     "output_type": "display_data"
    }
   ],
   "source": [
    "plt.figure(figsize=(12,6))\n",
    "plt.title('Does winning the toss increase the chances of winning the match?')\n",
    "plt.pie(win_counts,labels=win_counts.index,autopct='%1.1f%%', startangle=180);\n",
    "plt.savefig('Winning the toss.png')"
   ]
  },
  {
   "cell_type": "code",
   "execution_count": 102,
   "metadata": {},
   "outputs": [
    {
     "data": {
      "text/html": [
       "<div>\n",
       "<style scoped>\n",
       "    .dataframe tbody tr th:only-of-type {\n",
       "        vertical-align: middle;\n",
       "    }\n",
       "\n",
       "    .dataframe tbody tr th {\n",
       "        vertical-align: top;\n",
       "    }\n",
       "\n",
       "    .dataframe thead th {\n",
       "        text-align: right;\n",
       "    }\n",
       "</style>\n",
       "<table border=\"1\" class=\"dataframe\">\n",
       "  <thead>\n",
       "    <tr style=\"text-align: right;\">\n",
       "      <th></th>\n",
       "      <th>batsman</th>\n",
       "      <th>Runs</th>\n",
       "    </tr>\n",
       "  </thead>\n",
       "  <tbody>\n",
       "    <tr>\n",
       "      <th>505</th>\n",
       "      <td>V Kohli</td>\n",
       "      <td>5878</td>\n",
       "    </tr>\n",
       "    <tr>\n",
       "      <th>438</th>\n",
       "      <td>SK Raina</td>\n",
       "      <td>5368</td>\n",
       "    </tr>\n",
       "    <tr>\n",
       "      <th>116</th>\n",
       "      <td>DA Warner</td>\n",
       "      <td>5254</td>\n",
       "    </tr>\n",
       "    <tr>\n",
       "      <th>379</th>\n",
       "      <td>RG Sharma</td>\n",
       "      <td>5230</td>\n",
       "    </tr>\n",
       "    <tr>\n",
       "      <th>407</th>\n",
       "      <td>S Dhawan</td>\n",
       "      <td>5197</td>\n",
       "    </tr>\n",
       "  </tbody>\n",
       "</table>\n",
       "</div>"
      ],
      "text/plain": [
       "       batsman  Runs\n",
       "505    V Kohli  5878\n",
       "438   SK Raina  5368\n",
       "116  DA Warner  5254\n",
       "379  RG Sharma  5230\n",
       "407   S Dhawan  5197"
      ]
     },
     "execution_count": 102,
     "metadata": {},
     "output_type": "execute_result"
    }
   ],
   "source": [
    "batsmen = IPL_Ball_data.groupby('batsman').apply(lambda x : np.sum(x['batsman_runs'])).reset_index(name='Runs')\n",
    "batsmen_sorted=batsmen.sort_values(by='Runs',ascending=False)\n",
    "top_batsmen=batsmen_sorted[:5]\n",
    "top_batsmen"
   ]
  },
  {
   "cell_type": "markdown",
   "metadata": {},
   "source": [
    "Thus, we understood that why Virat Kohli is called the Run Machine. He has scored 5875 runs in total, followed by Suresh Raina with 5368 runs and tik tok Warner with 5254."
   ]
  },
  {
   "cell_type": "code",
   "execution_count": 116,
   "metadata": {},
   "outputs": [],
   "source": [
    "venue_ = IPL_match_data['venue'].value_counts()"
   ]
  },
  {
   "cell_type": "code",
   "execution_count": 114,
   "metadata": {},
   "outputs": [],
   "source": [
    "venue_df = pd.DataFrame(columns=['venue', 'matches'])\n",
    "for items in venue_.iteritems():\n",
    "    temp_df = pd.DataFrame({\n",
    "        'venue':[items[0]],\n",
    "        'matches':[items[1]]\n",
    "    })\n",
    "    venue_df = venue_df.append(temp_df, ignore_index=True)"
   ]
  },
  {
   "cell_type": "code",
   "execution_count": 181,
   "metadata": {},
   "outputs": [
    {
     "data": {
      "image/png": "[encoded data removed]",
      "text/plain": [
       "<Figure size 864x576 with 1 Axes>"
      ]
     },
     "metadata": {
      "needs_background": "light"
     },
     "output_type": "display_data"
    }
   ],
   "source": [
    "plt.title(\"IPL Venues\")\n",
    "sns.barplot(x='matches', y='venue', data=venue_df);\n",
    "plt.savefig('IPL Venues.png')"
   ]
  },
  {
   "cell_type": "code",
   "execution_count": 121,
   "metadata": {},
   "outputs": [
    {
     "data": {
      "text/html": [
       "<div>\n",
       "<style scoped>\n",
       "    .dataframe tbody tr th:only-of-type {\n",
       "        vertical-align: middle;\n",
       "    }\n",
       "\n",
       "    .dataframe tbody tr th {\n",
       "        vertical-align: top;\n",
       "    }\n",
       "\n",
       "    .dataframe thead th {\n",
       "        text-align: right;\n",
       "    }\n",
       "</style>\n",
       "<table border=\"1\" class=\"dataframe\">\n",
       "  <thead>\n",
       "    <tr style=\"text-align: right;\">\n",
       "      <th></th>\n",
       "      <th>venue</th>\n",
       "      <th>matches</th>\n",
       "    </tr>\n",
       "  </thead>\n",
       "  <tbody>\n",
       "    <tr>\n",
       "      <th>0</th>\n",
       "      <td>Eden Gardens</td>\n",
       "      <td>77</td>\n",
       "    </tr>\n",
       "    <tr>\n",
       "      <th>1</th>\n",
       "      <td>Feroz Shah Kotla</td>\n",
       "      <td>74</td>\n",
       "    </tr>\n",
       "    <tr>\n",
       "      <th>2</th>\n",
       "      <td>Wankhede Stadium</td>\n",
       "      <td>73</td>\n",
       "    </tr>\n",
       "    <tr>\n",
       "      <th>3</th>\n",
       "      <td>M Chinnaswamy Stadium</td>\n",
       "      <td>65</td>\n",
       "    </tr>\n",
       "    <tr>\n",
       "      <th>4</th>\n",
       "      <td>Rajiv Gandhi International Stadium, Uppal</td>\n",
       "      <td>64</td>\n",
       "    </tr>\n",
       "    <tr>\n",
       "      <th>5</th>\n",
       "      <td>MA Chidambaram Stadium, Chepauk</td>\n",
       "      <td>57</td>\n",
       "    </tr>\n",
       "    <tr>\n",
       "      <th>6</th>\n",
       "      <td>Sawai Mansingh Stadium</td>\n",
       "      <td>47</td>\n",
       "    </tr>\n",
       "    <tr>\n",
       "      <th>7</th>\n",
       "      <td>Punjab Cricket Association Stadium, Mohali</td>\n",
       "      <td>35</td>\n",
       "    </tr>\n",
       "    <tr>\n",
       "      <th>8</th>\n",
       "      <td>Dubai International Cricket Stadium</td>\n",
       "      <td>33</td>\n",
       "    </tr>\n",
       "    <tr>\n",
       "      <th>9</th>\n",
       "      <td>Sheikh Zayed Stadium</td>\n",
       "      <td>29</td>\n",
       "    </tr>\n",
       "    <tr>\n",
       "      <th>10</th>\n",
       "      <td>Maharashtra Cricket Association Stadium</td>\n",
       "      <td>21</td>\n",
       "    </tr>\n",
       "    <tr>\n",
       "      <th>11</th>\n",
       "      <td>Punjab Cricket Association IS Bindra Stadium, ...</td>\n",
       "      <td>21</td>\n",
       "    </tr>\n",
       "    <tr>\n",
       "      <th>12</th>\n",
       "      <td>Sharjah Cricket Stadium</td>\n",
       "      <td>18</td>\n",
       "    </tr>\n",
       "    <tr>\n",
       "      <th>13</th>\n",
       "      <td>Subrata Roy Sahara Stadium</td>\n",
       "      <td>17</td>\n",
       "    </tr>\n",
       "    <tr>\n",
       "      <th>14</th>\n",
       "      <td>Dr DY Patil Sports Academy</td>\n",
       "      <td>17</td>\n",
       "    </tr>\n",
       "    <tr>\n",
       "      <th>15</th>\n",
       "      <td>Kingsmead</td>\n",
       "      <td>15</td>\n",
       "    </tr>\n",
       "    <tr>\n",
       "      <th>16</th>\n",
       "      <td>M.Chinnaswamy Stadium</td>\n",
       "      <td>15</td>\n",
       "    </tr>\n",
       "    <tr>\n",
       "      <th>17</th>\n",
       "      <td>Dr. Y.S. Rajasekhara Reddy ACA-VDCA Cricket St...</td>\n",
       "      <td>13</td>\n",
       "    </tr>\n",
       "    <tr>\n",
       "      <th>18</th>\n",
       "      <td>SuperSport Park</td>\n",
       "      <td>12</td>\n",
       "    </tr>\n",
       "    <tr>\n",
       "      <th>19</th>\n",
       "      <td>Sardar Patel Stadium, Motera</td>\n",
       "      <td>12</td>\n",
       "    </tr>\n",
       "    <tr>\n",
       "      <th>20</th>\n",
       "      <td>Brabourne Stadium</td>\n",
       "      <td>11</td>\n",
       "    </tr>\n",
       "    <tr>\n",
       "      <th>21</th>\n",
       "      <td>Saurashtra Cricket Association Stadium</td>\n",
       "      <td>10</td>\n",
       "    </tr>\n",
       "    <tr>\n",
       "      <th>22</th>\n",
       "      <td>Holkar Cricket Stadium</td>\n",
       "      <td>9</td>\n",
       "    </tr>\n",
       "    <tr>\n",
       "      <th>23</th>\n",
       "      <td>Himachal Pradesh Cricket Association Stadium</td>\n",
       "      <td>9</td>\n",
       "    </tr>\n",
       "    <tr>\n",
       "      <th>24</th>\n",
       "      <td>New Wanderers Stadium</td>\n",
       "      <td>8</td>\n",
       "    </tr>\n",
       "    <tr>\n",
       "      <th>25</th>\n",
       "      <td>JSCA International Stadium Complex</td>\n",
       "      <td>7</td>\n",
       "    </tr>\n",
       "    <tr>\n",
       "      <th>26</th>\n",
       "      <td>Newlands</td>\n",
       "      <td>7</td>\n",
       "    </tr>\n",
       "    <tr>\n",
       "      <th>27</th>\n",
       "      <td>St George's Park</td>\n",
       "      <td>7</td>\n",
       "    </tr>\n",
       "    <tr>\n",
       "      <th>28</th>\n",
       "      <td>Barabati Stadium</td>\n",
       "      <td>7</td>\n",
       "    </tr>\n",
       "    <tr>\n",
       "      <th>29</th>\n",
       "      <td>Shaheed Veer Narayan Singh International Stadium</td>\n",
       "      <td>6</td>\n",
       "    </tr>\n",
       "    <tr>\n",
       "      <th>30</th>\n",
       "      <td>Nehru Stadium</td>\n",
       "      <td>5</td>\n",
       "    </tr>\n",
       "    <tr>\n",
       "      <th>31</th>\n",
       "      <td>Green Park</td>\n",
       "      <td>4</td>\n",
       "    </tr>\n",
       "    <tr>\n",
       "      <th>32</th>\n",
       "      <td>Buffalo Park</td>\n",
       "      <td>3</td>\n",
       "    </tr>\n",
       "    <tr>\n",
       "      <th>33</th>\n",
       "      <td>De Beers Diamond Oval</td>\n",
       "      <td>3</td>\n",
       "    </tr>\n",
       "    <tr>\n",
       "      <th>34</th>\n",
       "      <td>Vidarbha Cricket Association Stadium, Jamtha</td>\n",
       "      <td>3</td>\n",
       "    </tr>\n",
       "    <tr>\n",
       "      <th>35</th>\n",
       "      <td>OUTsurance Oval</td>\n",
       "      <td>2</td>\n",
       "    </tr>\n",
       "  </tbody>\n",
       "</table>\n",
       "</div>"
      ],
      "text/plain": [
       "                                                venue matches\n",
       "0                                        Eden Gardens      77\n",
       "1                                    Feroz Shah Kotla      74\n",
       "2                                    Wankhede Stadium      73\n",
       "3                               M Chinnaswamy Stadium      65\n",
       "4           Rajiv Gandhi International Stadium, Uppal      64\n",
       "5                     MA Chidambaram Stadium, Chepauk      57\n",
       "6                              Sawai Mansingh Stadium      47\n",
       "7          Punjab Cricket Association Stadium, Mohali      35\n",
       "8                 Dubai International Cricket Stadium      33\n",
       "9                                Sheikh Zayed Stadium      29\n",
       "10            Maharashtra Cricket Association Stadium      21\n",
       "11  Punjab Cricket Association IS Bindra Stadium, ...      21\n",
       "12                            Sharjah Cricket Stadium      18\n",
       "13                         Subrata Roy Sahara Stadium      17\n",
       "14                         Dr DY Patil Sports Academy      17\n",
       "15                                          Kingsmead      15\n",
       "16                              M.Chinnaswamy Stadium      15\n",
       "17  Dr. Y.S. Rajasekhara Reddy ACA-VDCA Cricket St...      13\n",
       "18                                    SuperSport Park      12\n",
       "19                       Sardar Patel Stadium, Motera      12\n",
       "20                                  Brabourne Stadium      11\n",
       "21             Saurashtra Cricket Association Stadium      10\n",
       "22                             Holkar Cricket Stadium       9\n",
       "23       Himachal Pradesh Cricket Association Stadium       9\n",
       "24                              New Wanderers Stadium       8\n",
       "25                 JSCA International Stadium Complex       7\n",
       "26                                           Newlands       7\n",
       "27                                   St George's Park       7\n",
       "28                                   Barabati Stadium       7\n",
       "29   Shaheed Veer Narayan Singh International Stadium       6\n",
       "30                                      Nehru Stadium       5\n",
       "31                                         Green Park       4\n",
       "32                                       Buffalo Park       3\n",
       "33                              De Beers Diamond Oval       3\n",
       "34       Vidarbha Cricket Association Stadium, Jamtha       3\n",
       "35                                    OUTsurance Oval       2"
      ]
     },
     "execution_count": 121,
     "metadata": {},
     "output_type": "execute_result"
    }
   ],
   "source": [
    "venue_df"
   ]
  },
  {
   "cell_type": "markdown",
   "metadata": {},
   "source": [
    "* Eden Gardens has hosted the maximum number of IPL matches followed by Feroz Shah Kotla and Wankhede Stadium.\n",
    "* IPL matches were hosted by 35 venues."
   ]
  },
  {
   "cell_type": "code",
   "execution_count": 12,
   "metadata": {},
   "outputs": [],
   "source": [
    "team_wins_ser = IPL_match_data['winner'].value_counts()\n",
    "\n",
    "team_wins_df = pd.DataFrame(columns=[\"team\", \"wins\"])\n",
    "for items in team_wins_ser.iteritems():\n",
    "    temp_df1 = pd.DataFrame({\n",
    "        'team':[items[0]],\n",
    "        'wins':[items[1]]\n",
    "    })\n",
    "    team_wins_df = team_wins_df.append(temp_df1, ignore_index=True)"
   ]
  },
  {
   "cell_type": "code",
   "execution_count": 13,
   "metadata": {},
   "outputs": [
    {
     "data": {
      "text/html": [
       "<div>\n",
       "<style scoped>\n",
       "    .dataframe tbody tr th:only-of-type {\n",
       "        vertical-align: middle;\n",
       "    }\n",
       "\n",
       "    .dataframe tbody tr th {\n",
       "        vertical-align: top;\n",
       "    }\n",
       "\n",
       "    .dataframe thead th {\n",
       "        text-align: right;\n",
       "    }\n",
       "</style>\n",
       "<table border=\"1\" class=\"dataframe\">\n",
       "  <thead>\n",
       "    <tr style=\"text-align: right;\">\n",
       "      <th></th>\n",
       "      <th>team</th>\n",
       "      <th>wins</th>\n",
       "    </tr>\n",
       "  </thead>\n",
       "  <tbody>\n",
       "    <tr>\n",
       "      <th>0</th>\n",
       "      <td>Mumbai Indians</td>\n",
       "      <td>120</td>\n",
       "    </tr>\n",
       "    <tr>\n",
       "      <th>1</th>\n",
       "      <td>Chennai Super Kings</td>\n",
       "      <td>106</td>\n",
       "    </tr>\n",
       "    <tr>\n",
       "      <th>2</th>\n",
       "      <td>Kolkata Knight Riders</td>\n",
       "      <td>99</td>\n",
       "    </tr>\n",
       "    <tr>\n",
       "      <th>3</th>\n",
       "      <td>Royal Challengers Bangalore</td>\n",
       "      <td>91</td>\n",
       "    </tr>\n",
       "    <tr>\n",
       "      <th>4</th>\n",
       "      <td>Kings XI Punjab</td>\n",
       "      <td>88</td>\n",
       "    </tr>\n",
       "    <tr>\n",
       "      <th>5</th>\n",
       "      <td>Rajasthan Royals</td>\n",
       "      <td>81</td>\n",
       "    </tr>\n",
       "    <tr>\n",
       "      <th>6</th>\n",
       "      <td>Delhi Daredevils</td>\n",
       "      <td>67</td>\n",
       "    </tr>\n",
       "    <tr>\n",
       "      <th>7</th>\n",
       "      <td>Sunrisers Hyderabad</td>\n",
       "      <td>66</td>\n",
       "    </tr>\n",
       "    <tr>\n",
       "      <th>8</th>\n",
       "      <td>Deccan Chargers</td>\n",
       "      <td>29</td>\n",
       "    </tr>\n",
       "    <tr>\n",
       "      <th>9</th>\n",
       "      <td>Delhi Capitals</td>\n",
       "      <td>19</td>\n",
       "    </tr>\n",
       "    <tr>\n",
       "      <th>10</th>\n",
       "      <td>Gujarat Lions</td>\n",
       "      <td>13</td>\n",
       "    </tr>\n",
       "    <tr>\n",
       "      <th>11</th>\n",
       "      <td>Pune Warriors</td>\n",
       "      <td>12</td>\n",
       "    </tr>\n",
       "    <tr>\n",
       "      <th>12</th>\n",
       "      <td>Rising Pune Supergiant</td>\n",
       "      <td>10</td>\n",
       "    </tr>\n",
       "    <tr>\n",
       "      <th>13</th>\n",
       "      <td>Kochi Tuskers Kerala</td>\n",
       "      <td>6</td>\n",
       "    </tr>\n",
       "    <tr>\n",
       "      <th>14</th>\n",
       "      <td>Rising Pune Supergiants</td>\n",
       "      <td>5</td>\n",
       "    </tr>\n",
       "  </tbody>\n",
       "</table>\n",
       "</div>"
      ],
      "text/plain": [
       "                           team wins\n",
       "0                Mumbai Indians  120\n",
       "1           Chennai Super Kings  106\n",
       "2         Kolkata Knight Riders   99\n",
       "3   Royal Challengers Bangalore   91\n",
       "4               Kings XI Punjab   88\n",
       "5              Rajasthan Royals   81\n",
       "6              Delhi Daredevils   67\n",
       "7           Sunrisers Hyderabad   66\n",
       "8               Deccan Chargers   29\n",
       "9                Delhi Capitals   19\n",
       "10                Gujarat Lions   13\n",
       "11                Pune Warriors   12\n",
       "12       Rising Pune Supergiant   10\n",
       "13         Kochi Tuskers Kerala    6\n",
       "14      Rising Pune Supergiants    5"
      ]
     },
     "execution_count": 13,
     "metadata": {},
     "output_type": "execute_result"
    }
   ],
   "source": [
    "team_wins_df"
   ]
  },
  {
   "cell_type": "code",
   "execution_count": 14,
   "metadata": {},
   "outputs": [
    {
     "data": {
      "image/png": "[encoded data removed]",
      "text/plain": [
       "<Figure size 432x288 with 1 Axes>"
      ]
     },
     "metadata": {
      "needs_background": "light"
     },
     "output_type": "display_data"
    }
   ],
   "source": [
    "plt.title(\"Total Victories of IPL Teams\")\n",
    "sns.barplot(x='wins', y='team', data=team_wins_df, palette='Paired');\n",
    "plt.savefig('Total Victories of each Team.png')"
   ]
  },
  {
   "cell_type": "markdown",
   "metadata": {},
   "source": [
    "* Mumbai Indians is the most successful team(as they have won the maximum number of IPL matches -120) followed by Chennai Super Kings and Kolkata Knight Riders."
   ]
  },
  {
   "cell_type": "code",
   "execution_count": 15,
   "metadata": {},
   "outputs": [],
   "source": [
    "toss_ser = IPL_match_data['toss_winner'].value_counts()\n",
    "\n",
    "toss_df = pd.DataFrame(columns=[\"team\", \"wins\"])\n",
    "\n",
    "for items in toss_ser.iteritems():\n",
    "    temp_df3 = pd.DataFrame({\n",
    "        'team':[items[0]],\n",
    "        'wins':[items[1]]\n",
    "    })\n",
    "    toss_df = toss_df.append(temp_df3, ignore_index=True)"
   ]
  },
  {
   "cell_type": "code",
   "execution_count": 16,
   "metadata": {},
   "outputs": [
    {
     "data": {
      "text/html": [
       "<div>\n",
       "<style scoped>\n",
       "    .dataframe tbody tr th:only-of-type {\n",
       "        vertical-align: middle;\n",
       "    }\n",
       "\n",
       "    .dataframe tbody tr th {\n",
       "        vertical-align: top;\n",
       "    }\n",
       "\n",
       "    .dataframe thead th {\n",
       "        text-align: right;\n",
       "    }\n",
       "</style>\n",
       "<table border=\"1\" class=\"dataframe\">\n",
       "  <thead>\n",
       "    <tr style=\"text-align: right;\">\n",
       "      <th></th>\n",
       "      <th>team</th>\n",
       "      <th>wins</th>\n",
       "    </tr>\n",
       "  </thead>\n",
       "  <tbody>\n",
       "    <tr>\n",
       "      <th>0</th>\n",
       "      <td>Mumbai Indians</td>\n",
       "      <td>106</td>\n",
       "    </tr>\n",
       "    <tr>\n",
       "      <th>1</th>\n",
       "      <td>Kolkata Knight Riders</td>\n",
       "      <td>98</td>\n",
       "    </tr>\n",
       "    <tr>\n",
       "      <th>2</th>\n",
       "      <td>Chennai Super Kings</td>\n",
       "      <td>97</td>\n",
       "    </tr>\n",
       "    <tr>\n",
       "      <th>3</th>\n",
       "      <td>Royal Challengers Bangalore</td>\n",
       "      <td>87</td>\n",
       "    </tr>\n",
       "    <tr>\n",
       "      <th>4</th>\n",
       "      <td>Rajasthan Royals</td>\n",
       "      <td>87</td>\n",
       "    </tr>\n",
       "    <tr>\n",
       "      <th>5</th>\n",
       "      <td>Kings XI Punjab</td>\n",
       "      <td>85</td>\n",
       "    </tr>\n",
       "    <tr>\n",
       "      <th>6</th>\n",
       "      <td>Delhi Daredevils</td>\n",
       "      <td>80</td>\n",
       "    </tr>\n",
       "    <tr>\n",
       "      <th>7</th>\n",
       "      <td>Sunrisers Hyderabad</td>\n",
       "      <td>57</td>\n",
       "    </tr>\n",
       "    <tr>\n",
       "      <th>8</th>\n",
       "      <td>Deccan Chargers</td>\n",
       "      <td>43</td>\n",
       "    </tr>\n",
       "    <tr>\n",
       "      <th>9</th>\n",
       "      <td>Pune Warriors</td>\n",
       "      <td>20</td>\n",
       "    </tr>\n",
       "    <tr>\n",
       "      <th>10</th>\n",
       "      <td>Delhi Capitals</td>\n",
       "      <td>20</td>\n",
       "    </tr>\n",
       "    <tr>\n",
       "      <th>11</th>\n",
       "      <td>Gujarat Lions</td>\n",
       "      <td>15</td>\n",
       "    </tr>\n",
       "    <tr>\n",
       "      <th>12</th>\n",
       "      <td>Kochi Tuskers Kerala</td>\n",
       "      <td>8</td>\n",
       "    </tr>\n",
       "    <tr>\n",
       "      <th>13</th>\n",
       "      <td>Rising Pune Supergiants</td>\n",
       "      <td>7</td>\n",
       "    </tr>\n",
       "    <tr>\n",
       "      <th>14</th>\n",
       "      <td>Rising Pune Supergiant</td>\n",
       "      <td>6</td>\n",
       "    </tr>\n",
       "  </tbody>\n",
       "</table>\n",
       "</div>"
      ],
      "text/plain": [
       "                           team wins\n",
       "0                Mumbai Indians  106\n",
       "1         Kolkata Knight Riders   98\n",
       "2           Chennai Super Kings   97\n",
       "3   Royal Challengers Bangalore   87\n",
       "4              Rajasthan Royals   87\n",
       "5               Kings XI Punjab   85\n",
       "6              Delhi Daredevils   80\n",
       "7           Sunrisers Hyderabad   57\n",
       "8               Deccan Chargers   43\n",
       "9                 Pune Warriors   20\n",
       "10               Delhi Capitals   20\n",
       "11                Gujarat Lions   15\n",
       "12         Kochi Tuskers Kerala    8\n",
       "13      Rising Pune Supergiants    7\n",
       "14       Rising Pune Supergiant    6"
      ]
     },
     "execution_count": 16,
     "metadata": {},
     "output_type": "execute_result"
    }
   ],
   "source": [
    "toss_df"
   ]
  },
  {
   "cell_type": "code",
   "execution_count": 17,
   "metadata": {},
   "outputs": [
    {
     "data": {
      "image/png": "[encoded data removed]",
      "text/plain": [
       "<Figure size 432x288 with 1 Axes>"
      ]
     },
     "metadata": {
      "needs_background": "light"
     },
     "output_type": "display_data"
    }
   ],
   "source": [
    "plt.title(\"How IPL Teams fared in toss?\")\n",
    "sns.barplot(x='wins', y='team', data=toss_df, palette='Paired');\n",
    "plt.savefig('Total no of toss wins of each Team.png')"
   ]
  },
  {
   "cell_type": "markdown",
   "metadata": {},
   "source": [
    "* Mumbai Indians have won the most toss till date(106)\n",
    "* Mumbai Indians have won 120 matches till date, so when ever Mumbai Indians win the toss 88.3% they will win the match."
   ]
  },
  {
   "cell_type": "code",
   "execution_count": 18,
   "metadata": {},
   "outputs": [
    {
     "name": "stdout",
     "output_type": "stream",
     "text": [
      "The number of times the team winning toss have won: 418\n",
      "The probability of winning if won the toss: 0.51\n"
     ]
    }
   ],
   "source": [
    "win_count = 0\n",
    "for index, value in IPL_match_data.iterrows():\n",
    "    if(value['toss_winner']==value['winner']):\n",
    "#         print(value['winner'])\n",
    "        win_count += 1\n",
    "\n",
    "print(f'The number of times the team winning toss have won: {win_count}')\n",
    "prob = win_count/len(IPL_match_data)\n",
    "print('The probability of winning if won the toss: {:.2f}' .format(prob))"
   ]
  },
  {
   "cell_type": "markdown",
   "metadata": {},
   "source": [
    "As the probability of winning the toos is 51% it shows in T20 winning the toss doesn't matter "
   ]
  },
  {
   "cell_type": "code",
   "execution_count": 135,
   "metadata": {},
   "outputs": [
    {
     "data": {
      "text/plain": [
       "caught                   5743\n",
       "bowled                   1700\n",
       "run out                   893\n",
       "lbw                       571\n",
       "stumped                   294\n",
       "caught and bowled         269\n",
       "hit wicket                 12\n",
       "retired hurt               11\n",
       "obstructing the field       2\n",
       "Name: dismissal_kind, dtype: int64"
      ]
     },
     "execution_count": 135,
     "metadata": {},
     "output_type": "execute_result"
    }
   ],
   "source": [
    "IPL_Ball_data.dismissal_kind.value_counts()"
   ]
  },
  {
   "cell_type": "code",
   "execution_count": 19,
   "metadata": {},
   "outputs": [
    {
     "data": {
      "text/html": [
       "<div>\n",
       "<style scoped>\n",
       "    .dataframe tbody tr th:only-of-type {\n",
       "        vertical-align: middle;\n",
       "    }\n",
       "\n",
       "    .dataframe tbody tr th {\n",
       "        vertical-align: top;\n",
       "    }\n",
       "\n",
       "    .dataframe thead th {\n",
       "        text-align: right;\n",
       "    }\n",
       "</style>\n",
       "<table border=\"1\" class=\"dataframe\">\n",
       "  <thead>\n",
       "    <tr style=\"text-align: right;\">\n",
       "      <th></th>\n",
       "      <th>bowler</th>\n",
       "      <th>Extra_Runs</th>\n",
       "    </tr>\n",
       "  </thead>\n",
       "  <tbody>\n",
       "    <tr>\n",
       "      <th>350</th>\n",
       "      <td>SL Malinga</td>\n",
       "      <td>293</td>\n",
       "    </tr>\n",
       "    <tr>\n",
       "      <th>264</th>\n",
       "      <td>P Kumar</td>\n",
       "      <td>236</td>\n",
       "    </tr>\n",
       "    <tr>\n",
       "      <th>396</th>\n",
       "      <td>UT Yadav</td>\n",
       "      <td>226</td>\n",
       "    </tr>\n",
       "    <tr>\n",
       "      <th>99</th>\n",
       "      <td>DJ Bravo</td>\n",
       "      <td>210</td>\n",
       "    </tr>\n",
       "    <tr>\n",
       "      <th>57</th>\n",
       "      <td>B Kumar</td>\n",
       "      <td>201</td>\n",
       "    </tr>\n",
       "  </tbody>\n",
       "</table>\n",
       "</div>"
      ],
      "text/plain": [
       "         bowler  Extra_Runs\n",
       "350  SL Malinga         293\n",
       "264     P Kumar         236\n",
       "396    UT Yadav         226\n",
       "99     DJ Bravo         210\n",
       "57      B Kumar         201"
      ]
     },
     "execution_count": 19,
     "metadata": {},
     "output_type": "execute_result"
    }
   ],
   "source": [
    "bowler = IPL_Ball_data.groupby('bowler').apply(lambda x : np.sum(x['extra_runs'])).reset_index(name='Extra_Runs')\n",
    "bowler_sorted=bowler.sort_values(by='Extra_Runs',ascending=False)\n",
    "top_bowler=bowler_sorted[:5]\n",
    "top_bowler"
   ]
  },
  {
   "cell_type": "markdown",
   "metadata": {},
   "source": [
    "Lasith Malinga has given most Extras"
   ]
  },
  {
   "cell_type": "code",
   "execution_count": 20,
   "metadata": {},
   "outputs": [
    {
     "data": {
      "text/plain": [
       "wides      5858\n",
       "legbyes    3107\n",
       "noballs     758\n",
       "byes        508\n",
       "penalty       2\n",
       "Name: extras_type, dtype: int64"
      ]
     },
     "execution_count": 20,
     "metadata": {},
     "output_type": "execute_result"
    }
   ],
   "source": [
    "IPL_Ball_data.extras_type.value_counts()"
   ]
  },
  {
   "cell_type": "code",
   "execution_count": 21,
   "metadata": {},
   "outputs": [],
   "source": [
    "malinga = IPL_Ball_data[IPL_Ball_data['bowler']== 'SL Malinga']"
   ]
  },
  {
   "cell_type": "code",
   "execution_count": 22,
   "metadata": {},
   "outputs": [
    {
     "data": {
      "text/plain": [
       "wides      128\n",
       "legbyes     59\n",
       "noballs     18\n",
       "byes        15\n",
       "penalty      1\n",
       "Name: extras_type, dtype: int64"
      ]
     },
     "execution_count": 22,
     "metadata": {},
     "output_type": "execute_result"
    }
   ],
   "source": [
    "malinga_extras=malinga.extras_type.value_counts()\n",
    "malinga_extras"
   ]
  },
  {
   "cell_type": "code",
   "execution_count": 23,
   "metadata": {},
   "outputs": [
    {
     "data": {
      "image/png": "[encoded data removed]",
      "text/plain": [
       "<Figure size 864x432 with 1 Axes>"
      ]
     },
     "metadata": {},
     "output_type": "display_data"
    }
   ],
   "source": [
    "plt.figure(figsize=(12,6))\n",
    "plt.title('Extras Given By Malinga')\n",
    "plt.pie(malinga_extras,labels=malinga_extras.index,autopct='%1.1f%%', startangle=180);\n",
    "plt.savefig('Malinga Extras.png')"
   ]
  },
  {
   "cell_type": "code",
   "execution_count": 24,
   "metadata": {},
   "outputs": [
    {
     "data": {
      "text/plain": [
       "caught               90\n",
       "bowled               63\n",
       "run out              18\n",
       "lbw                  11\n",
       "caught and bowled     6\n",
       "Name: dismissal_kind, dtype: int64"
      ]
     },
     "execution_count": 24,
     "metadata": {},
     "output_type": "execute_result"
    }
   ],
   "source": [
    "malinga_dismissals=malinga.dismissal_kind.value_counts()\n",
    "malinga_dismissals "
   ]
  },
  {
   "cell_type": "code",
   "execution_count": 25,
   "metadata": {},
   "outputs": [
    {
     "data": {
      "image/png": "[encoded data removed]",
      "text/plain": [
       "<Figure size 864x432 with 1 Axes>"
      ]
     },
     "metadata": {},
     "output_type": "display_data"
    }
   ],
   "source": [
    "plt.figure(figsize=(12,6))\n",
    "plt.title('Dismissal By Malinga')\n",
    "plt.pie(malinga_dismissals,labels=malinga_dismissals.index,autopct='%1.1f%%', startangle=180);\n",
    "plt.savefig('Dismissal By Malinga.png')"
   ]
  },
  {
   "cell_type": "markdown",
   "metadata": {},
   "source": [
    "Out of his 170 wickets he 90 dismissals were Bowled, this is why he is king of york"
   ]
  },
  {
   "cell_type": "code",
   "execution_count": 26,
   "metadata": {},
   "outputs": [
    {
     "data": {
      "text/plain": [
       "caught                   5743\n",
       "bowled                   1700\n",
       "run out                   893\n",
       "lbw                       571\n",
       "stumped                   294\n",
       "caught and bowled         269\n",
       "hit wicket                 12\n",
       "retired hurt               11\n",
       "obstructing the field       2\n",
       "Name: dismissal_kind, dtype: int64"
      ]
     },
     "execution_count": 26,
     "metadata": {},
     "output_type": "execute_result"
    }
   ],
   "source": [
    "dismissals=IPL_Ball_data.dismissal_kind.value_counts()\n",
    "dismissals "
   ]
  },
  {
   "cell_type": "code",
   "execution_count": 32,
   "metadata": {},
   "outputs": [
    {
     "data": {
      "image/png": "[encoded data removed]",
      "text/plain": [
       "<Figure size 1080x720 with 1 Axes>"
      ]
     },
     "metadata": {},
     "output_type": "display_data"
    }
   ],
   "source": [
    "plt.figure(figsize=(15,10))\n",
    "plt.title('Dismissals')\n",
    "plt.pie(dismissals,labels=dismissals.index,autopct='%1.1f%%', startangle=180);\n",
    "plt.savefig('Dismissals.png')"
   ]
  },
  {
   "cell_type": "code",
   "execution_count": 38,
   "metadata": {},
   "outputs": [
    {
     "data": {
      "text/plain": [
       "MS Dhoni          164\n",
       "KD Karthik        156\n",
       "RV Uthappa        123\n",
       "AB de Villiers    117\n",
       "SK Raina          105\n",
       "Name: fielder, dtype: int64"
      ]
     },
     "execution_count": 38,
     "metadata": {},
     "output_type": "execute_result"
    }
   ],
   "source": [
    "catches=IPL_Ball_data.fielder.value_counts()\n",
    "catches.head()"
   ]
  },
  {
   "cell_type": "markdown",
   "metadata": {},
   "source": [
    "Most catches taken by in IPL is Mr Cool MSD"
   ]
  },
  {
   "cell_type": "code",
   "execution_count": 39,
   "metadata": {},
   "outputs": [
    {
     "data": {
      "text/plain": [
       "wides      5858\n",
       "legbyes    3107\n",
       "noballs     758\n",
       "byes        508\n",
       "penalty       2\n",
       "Name: extras_type, dtype: int64"
      ]
     },
     "execution_count": 39,
     "metadata": {},
     "output_type": "execute_result"
    }
   ],
   "source": [
    "extra_type=IPL_Ball_data.extras_type.value_counts()\n",
    "extra_type"
   ]
  },
  {
   "cell_type": "code",
   "execution_count": 40,
   "metadata": {},
   "outputs": [
    {
     "data": {
      "image/png": "[encoded data removed]",
      "text/plain": [
       "<Figure size 1080x720 with 1 Axes>"
      ]
     },
     "metadata": {},
     "output_type": "display_data"
    }
   ],
   "source": [
    "plt.figure(figsize=(15,10))\n",
    "plt.title('Type of Extras Given')\n",
    "plt.pie(extra_type,labels=extra_type.index,autopct='%1.1f%%', startangle=180);\n",
    "plt.savefig('Type of Extras Given.png')"
   ]
  },
  {
   "cell_type": "markdown",
   "metadata": {},
   "source": [
    "Most of the extras are given in the form of Wides"
   ]
  },
  {
   "cell_type": "code",
   "execution_count": null,
   "metadata": {},
   "outputs": [],
   "source": [
    "high_scores = IPL_Ball_data.groupby(['batting_team','bowling_team'])['total_runs'].sum().reset_index() \n",
    "high_scores = high_scores[high_scores['total_runs']>=200 & ]\n",
    "high_scores.nlargest(10,'total_runs')"
   ]
  },
  {
   "cell_type": "code",
   "execution_count": 52,
   "metadata": {},
   "outputs": [
    {
     "data": {
      "text/html": [
       "<div>\n",
       "<style scoped>\n",
       "    .dataframe tbody tr th:only-of-type {\n",
       "        vertical-align: middle;\n",
       "    }\n",
       "\n",
       "    .dataframe tbody tr th {\n",
       "        vertical-align: top;\n",
       "    }\n",
       "\n",
       "    .dataframe thead th {\n",
       "        text-align: right;\n",
       "    }\n",
       "</style>\n",
       "<table border=\"1\" class=\"dataframe\">\n",
       "  <thead>\n",
       "    <tr style=\"text-align: right;\">\n",
       "      <th></th>\n",
       "      <th>batting_team</th>\n",
       "      <th>Runs</th>\n",
       "    </tr>\n",
       "  </thead>\n",
       "  <tbody>\n",
       "    <tr>\n",
       "      <th>8</th>\n",
       "      <td>Mumbai Indians</td>\n",
       "      <td>9204</td>\n",
       "    </tr>\n",
       "    <tr>\n",
       "      <th>5</th>\n",
       "      <td>Kings XI Punjab</td>\n",
       "      <td>8907</td>\n",
       "    </tr>\n",
       "    <tr>\n",
       "      <th>7</th>\n",
       "      <td>Kolkata Knight Riders</td>\n",
       "      <td>8871</td>\n",
       "    </tr>\n",
       "    <tr>\n",
       "      <th>13</th>\n",
       "      <td>Royal Challengers Bangalore</td>\n",
       "      <td>8699</td>\n",
       "    </tr>\n",
       "    <tr>\n",
       "      <th>0</th>\n",
       "      <td>Chennai Super Kings</td>\n",
       "      <td>8048</td>\n",
       "    </tr>\n",
       "    <tr>\n",
       "      <th>3</th>\n",
       "      <td>Delhi Daredevils</td>\n",
       "      <td>7349</td>\n",
       "    </tr>\n",
       "    <tr>\n",
       "      <th>10</th>\n",
       "      <td>Rajasthan Royals</td>\n",
       "      <td>7151</td>\n",
       "    </tr>\n",
       "    <tr>\n",
       "      <th>14</th>\n",
       "      <td>Sunrisers Hyderabad</td>\n",
       "      <td>5917</td>\n",
       "    </tr>\n",
       "    <tr>\n",
       "      <th>1</th>\n",
       "      <td>Deccan Chargers</td>\n",
       "      <td>3417</td>\n",
       "    </tr>\n",
       "    <tr>\n",
       "      <th>9</th>\n",
       "      <td>Pune Warriors</td>\n",
       "      <td>1895</td>\n",
       "    </tr>\n",
       "    <tr>\n",
       "      <th>2</th>\n",
       "      <td>Delhi Capitals</td>\n",
       "      <td>1560</td>\n",
       "    </tr>\n",
       "    <tr>\n",
       "      <th>4</th>\n",
       "      <td>Gujarat Lions</td>\n",
       "      <td>1553</td>\n",
       "    </tr>\n",
       "    <tr>\n",
       "      <th>11</th>\n",
       "      <td>Rising Pune Supergiant</td>\n",
       "      <td>785</td>\n",
       "    </tr>\n",
       "    <tr>\n",
       "      <th>6</th>\n",
       "      <td>Kochi Tuskers Kerala</td>\n",
       "      <td>680</td>\n",
       "    </tr>\n",
       "    <tr>\n",
       "      <th>12</th>\n",
       "      <td>Rising Pune Supergiants</td>\n",
       "      <td>638</td>\n",
       "    </tr>\n",
       "  </tbody>\n",
       "</table>\n",
       "</div>"
      ],
      "text/plain": [
       "                   batting_team  Runs\n",
       "8                Mumbai Indians  9204\n",
       "5               Kings XI Punjab  8907\n",
       "7         Kolkata Knight Riders  8871\n",
       "13  Royal Challengers Bangalore  8699\n",
       "0           Chennai Super Kings  8048\n",
       "3              Delhi Daredevils  7349\n",
       "10             Rajasthan Royals  7151\n",
       "14          Sunrisers Hyderabad  5917\n",
       "1               Deccan Chargers  3417\n",
       "9                 Pune Warriors  1895\n",
       "2                Delhi Capitals  1560\n",
       "4                 Gujarat Lions  1553\n",
       "11       Rising Pune Supergiant   785\n",
       "6          Kochi Tuskers Kerala   680\n",
       "12      Rising Pune Supergiants   638"
      ]
     },
     "execution_count": 52,
     "metadata": {},
     "output_type": "execute_result"
    }
   ],
   "source": [
    "overs = [0,1,2,3,4,5]\n",
    "powerplay = IPL_Ball_data.loc[IPL_Ball_data['over'].isin(overs)]\n",
    "pp_score = powerplay.groupby('batting_team').apply(lambda x : np.sum(x['total_runs'])).reset_index(name='Runs')\n",
    "pp_score_sorted=pp_score.sort_values(by='Runs',ascending=False)\n",
    "top_pp_score=pp_score_sorted[:15]\n",
    "top_pp_score"
   ]
  },
  {
   "cell_type": "code",
   "execution_count": 53,
   "metadata": {},
   "outputs": [
    {
     "data": {
      "image/png": "[encoded data removed]",
      "text/plain": [
       "<Figure size 432x288 with 1 Axes>"
      ]
     },
     "metadata": {
      "needs_background": "light"
     },
     "output_type": "display_data"
    }
   ],
   "source": [
    "plt.title(\"Highest Power_Play Score by each team\")\n",
    "sns.barplot(x='Runs', y='batting_team', data=top_pp_score, palette='Paired');\n",
    "plt.savefig('Highest Power_Play Score.png')"
   ]
  },
  {
   "cell_type": "code",
   "execution_count": 54,
   "metadata": {},
   "outputs": [
    {
     "data": {
      "text/html": [
       "<div>\n",
       "<style scoped>\n",
       "    .dataframe tbody tr th:only-of-type {\n",
       "        vertical-align: middle;\n",
       "    }\n",
       "\n",
       "    .dataframe tbody tr th {\n",
       "        vertical-align: top;\n",
       "    }\n",
       "\n",
       "    .dataframe thead th {\n",
       "        text-align: right;\n",
       "    }\n",
       "</style>\n",
       "<table border=\"1\" class=\"dataframe\">\n",
       "  <thead>\n",
       "    <tr style=\"text-align: right;\">\n",
       "      <th></th>\n",
       "      <th>batting_team</th>\n",
       "      <th>Runs</th>\n",
       "    </tr>\n",
       "  </thead>\n",
       "  <tbody>\n",
       "    <tr>\n",
       "      <th>8</th>\n",
       "      <td>Mumbai Indians</td>\n",
       "      <td>7538</td>\n",
       "    </tr>\n",
       "    <tr>\n",
       "      <th>13</th>\n",
       "      <td>Royal Challengers Bangalore</td>\n",
       "      <td>6787</td>\n",
       "    </tr>\n",
       "    <tr>\n",
       "      <th>0</th>\n",
       "      <td>Chennai Super Kings</td>\n",
       "      <td>6655</td>\n",
       "    </tr>\n",
       "    <tr>\n",
       "      <th>5</th>\n",
       "      <td>Kings XI Punjab</td>\n",
       "      <td>6227</td>\n",
       "    </tr>\n",
       "    <tr>\n",
       "      <th>7</th>\n",
       "      <td>Kolkata Knight Riders</td>\n",
       "      <td>6224</td>\n",
       "    </tr>\n",
       "    <tr>\n",
       "      <th>3</th>\n",
       "      <td>Delhi Daredevils</td>\n",
       "      <td>5043</td>\n",
       "    </tr>\n",
       "    <tr>\n",
       "      <th>10</th>\n",
       "      <td>Rajasthan Royals</td>\n",
       "      <td>5043</td>\n",
       "    </tr>\n",
       "    <tr>\n",
       "      <th>14</th>\n",
       "      <td>Sunrisers Hyderabad</td>\n",
       "      <td>4155</td>\n",
       "    </tr>\n",
       "    <tr>\n",
       "      <th>1</th>\n",
       "      <td>Deccan Chargers</td>\n",
       "      <td>2539</td>\n",
       "    </tr>\n",
       "    <tr>\n",
       "      <th>9</th>\n",
       "      <td>Pune Warriors</td>\n",
       "      <td>1360</td>\n",
       "    </tr>\n",
       "    <tr>\n",
       "      <th>2</th>\n",
       "      <td>Delhi Capitals</td>\n",
       "      <td>1160</td>\n",
       "    </tr>\n",
       "    <tr>\n",
       "      <th>4</th>\n",
       "      <td>Gujarat Lions</td>\n",
       "      <td>921</td>\n",
       "    </tr>\n",
       "    <tr>\n",
       "      <th>11</th>\n",
       "      <td>Rising Pune Supergiant</td>\n",
       "      <td>555</td>\n",
       "    </tr>\n",
       "    <tr>\n",
       "      <th>12</th>\n",
       "      <td>Rising Pune Supergiants</td>\n",
       "      <td>443</td>\n",
       "    </tr>\n",
       "    <tr>\n",
       "      <th>6</th>\n",
       "      <td>Kochi Tuskers Kerala</td>\n",
       "      <td>337</td>\n",
       "    </tr>\n",
       "  </tbody>\n",
       "</table>\n",
       "</div>"
      ],
      "text/plain": [
       "                   batting_team  Runs\n",
       "8                Mumbai Indians  7538\n",
       "13  Royal Challengers Bangalore  6787\n",
       "0           Chennai Super Kings  6655\n",
       "5               Kings XI Punjab  6227\n",
       "7         Kolkata Knight Riders  6224\n",
       "3              Delhi Daredevils  5043\n",
       "10             Rajasthan Royals  5043\n",
       "14          Sunrisers Hyderabad  4155\n",
       "1               Deccan Chargers  2539\n",
       "9                 Pune Warriors  1360\n",
       "2                Delhi Capitals  1160\n",
       "4                 Gujarat Lions   921\n",
       "11       Rising Pune Supergiant   555\n",
       "12      Rising Pune Supergiants   443\n",
       "6          Kochi Tuskers Kerala   337"
      ]
     },
     "execution_count": 54,
     "metadata": {},
     "output_type": "execute_result"
    }
   ],
   "source": [
    "final_overs = [16,17,18,19,20]\n",
    "final = IPL_Ball_data.loc[IPL_Ball_data['over'].isin(final_overs)]\n",
    "final_score = final.groupby('batting_team').apply(lambda x : np.sum(x['total_runs'])).reset_index(name='Runs')\n",
    "final_score_sorted=final_score.sort_values(by='Runs',ascending=False)\n",
    "top_final_score=final_score_sorted[:15]\n",
    "top_final_score"
   ]
  },
  {
   "cell_type": "code",
   "execution_count": 55,
   "metadata": {},
   "outputs": [
    {
     "data": {
      "image/png": "[encoded data removed]",
      "text/plain": [
       "<Figure size 432x288 with 1 Axes>"
      ]
     },
     "metadata": {
      "needs_background": "light"
     },
     "output_type": "display_data"
    }
   ],
   "source": [
    "plt.title(\"Highest final overs Score by each team\")\n",
    "sns.barplot(x='Runs', y='batting_team', data=top_final_score, palette='Paired');\n",
    "plt.savefig('Highest final overs Score.png')"
   ]
  },
  {
   "cell_type": "code",
   "execution_count": 58,
   "metadata": {},
   "outputs": [
    {
     "data": {
      "text/html": [
       "<div>\n",
       "<style scoped>\n",
       "    .dataframe tbody tr th:only-of-type {\n",
       "        vertical-align: middle;\n",
       "    }\n",
       "\n",
       "    .dataframe tbody tr th {\n",
       "        vertical-align: top;\n",
       "    }\n",
       "\n",
       "    .dataframe thead th {\n",
       "        text-align: right;\n",
       "    }\n",
       "</style>\n",
       "<table border=\"1\" class=\"dataframe\">\n",
       "  <thead>\n",
       "    <tr style=\"text-align: right;\">\n",
       "      <th></th>\n",
       "      <th>bowler</th>\n",
       "      <th>Wickets</th>\n",
       "    </tr>\n",
       "  </thead>\n",
       "  <tbody>\n",
       "    <tr>\n",
       "      <th>252</th>\n",
       "      <td>Z Khan</td>\n",
       "      <td>58</td>\n",
       "    </tr>\n",
       "    <tr>\n",
       "      <th>224</th>\n",
       "      <td>Sandeep Sharma</td>\n",
       "      <td>54</td>\n",
       "    </tr>\n",
       "    <tr>\n",
       "      <th>35</th>\n",
       "      <td>B Kumar</td>\n",
       "      <td>53</td>\n",
       "    </tr>\n",
       "    <tr>\n",
       "      <th>238</th>\n",
       "      <td>UT Yadav</td>\n",
       "      <td>47</td>\n",
       "    </tr>\n",
       "    <tr>\n",
       "      <th>68</th>\n",
       "      <td>DS Kulkarni</td>\n",
       "      <td>46</td>\n",
       "    </tr>\n",
       "    <tr>\n",
       "      <th>5</th>\n",
       "      <td>A Nehra</td>\n",
       "      <td>45</td>\n",
       "    </tr>\n",
       "    <tr>\n",
       "      <th>173</th>\n",
       "      <td>R Ashwin</td>\n",
       "      <td>45</td>\n",
       "    </tr>\n",
       "    <tr>\n",
       "      <th>82</th>\n",
       "      <td>I Sharma</td>\n",
       "      <td>44</td>\n",
       "    </tr>\n",
       "    <tr>\n",
       "      <th>162</th>\n",
       "      <td>P Kumar</td>\n",
       "      <td>44</td>\n",
       "    </tr>\n",
       "    <tr>\n",
       "      <th>211</th>\n",
       "      <td>SL Malinga</td>\n",
       "      <td>40</td>\n",
       "    </tr>\n",
       "  </tbody>\n",
       "</table>\n",
       "</div>"
      ],
      "text/plain": [
       "             bowler  Wickets\n",
       "252          Z Khan       58\n",
       "224  Sandeep Sharma       54\n",
       "35          B Kumar       53\n",
       "238        UT Yadav       47\n",
       "68      DS Kulkarni       46\n",
       "5           A Nehra       45\n",
       "173        R Ashwin       45\n",
       "82         I Sharma       44\n",
       "162         P Kumar       44\n",
       "211      SL Malinga       40"
      ]
     },
     "execution_count": 58,
     "metadata": {},
     "output_type": "execute_result"
    }
   ],
   "source": [
    "overs = [0,1,2,3,4,5]\n",
    "powerplay = IPL_Ball_data.loc[IPL_Ball_data['over'].isin(overs)]\n",
    "pp_wickets = powerplay.groupby('bowler').apply(lambda x : x['dismissal_kind'].dropna()).reset_index(name='Wickets')\n",
    "pp_wic = pp_wickets.groupby('bowler').count().reset_index()\n",
    "pp_wic_sorted = pp_wic.sort_values(by='Wickets',ascending=False)\n",
    "top_bowlers_sorted = pp_wic_sorted.loc[:,['bowler','Wickets']][0:10]\n",
    "top_bowlers_sorted"
   ]
  },
  {
   "cell_type": "markdown",
   "metadata": {},
   "source": [
    "Zaheer Khan has once again proved that he is the best new ball bowler "
   ]
  },
  {
   "cell_type": "code",
   "execution_count": 59,
   "metadata": {},
   "outputs": [
    {
     "data": {
      "text/html": [
       "<div>\n",
       "<style scoped>\n",
       "    .dataframe tbody tr th:only-of-type {\n",
       "        vertical-align: middle;\n",
       "    }\n",
       "\n",
       "    .dataframe tbody tr th {\n",
       "        vertical-align: top;\n",
       "    }\n",
       "\n",
       "    .dataframe thead th {\n",
       "        text-align: right;\n",
       "    }\n",
       "</style>\n",
       "<table border=\"1\" class=\"dataframe\">\n",
       "  <thead>\n",
       "    <tr style=\"text-align: right;\">\n",
       "      <th></th>\n",
       "      <th>bowler</th>\n",
       "      <th>Wickets</th>\n",
       "    </tr>\n",
       "  </thead>\n",
       "  <tbody>\n",
       "    <tr>\n",
       "      <th>223</th>\n",
       "      <td>SL Malinga</td>\n",
       "      <td>104</td>\n",
       "    </tr>\n",
       "    <tr>\n",
       "      <th>60</th>\n",
       "      <td>DJ Bravo</td>\n",
       "      <td>94</td>\n",
       "    </tr>\n",
       "    <tr>\n",
       "      <th>37</th>\n",
       "      <td>B Kumar</td>\n",
       "      <td>70</td>\n",
       "    </tr>\n",
       "    <tr>\n",
       "      <th>103</th>\n",
       "      <td>JJ Bumrah</td>\n",
       "      <td>60</td>\n",
       "    </tr>\n",
       "    <tr>\n",
       "      <th>192</th>\n",
       "      <td>R Vinay Kumar</td>\n",
       "      <td>58</td>\n",
       "    </tr>\n",
       "    <tr>\n",
       "      <th>229</th>\n",
       "      <td>SP Narine</td>\n",
       "      <td>58</td>\n",
       "    </tr>\n",
       "    <tr>\n",
       "      <th>6</th>\n",
       "      <td>A Nehra</td>\n",
       "      <td>54</td>\n",
       "    </tr>\n",
       "    <tr>\n",
       "      <th>198</th>\n",
       "      <td>RP Singh</td>\n",
       "      <td>53</td>\n",
       "    </tr>\n",
       "    <tr>\n",
       "      <th>252</th>\n",
       "      <td>UT Yadav</td>\n",
       "      <td>53</td>\n",
       "    </tr>\n",
       "    <tr>\n",
       "      <th>49</th>\n",
       "      <td>CH Morris</td>\n",
       "      <td>52</td>\n",
       "    </tr>\n",
       "  </tbody>\n",
       "</table>\n",
       "</div>"
      ],
      "text/plain": [
       "            bowler  Wickets\n",
       "223     SL Malinga      104\n",
       "60        DJ Bravo       94\n",
       "37         B Kumar       70\n",
       "103      JJ Bumrah       60\n",
       "192  R Vinay Kumar       58\n",
       "229      SP Narine       58\n",
       "6          A Nehra       54\n",
       "198       RP Singh       53\n",
       "252       UT Yadav       53\n",
       "49       CH Morris       52"
      ]
     },
     "execution_count": 59,
     "metadata": {},
     "output_type": "execute_result"
    }
   ],
   "source": [
    "overs = [16,17,18,19,20]\n",
    "powerplay = IPL_Ball_data.loc[IPL_Ball_data['over'].isin(overs)]\n",
    "pp_wickets = powerplay.groupby('bowler').apply(lambda x : x['dismissal_kind'].dropna()).reset_index(name='Wickets')\n",
    "pp_wic = pp_wickets.groupby('bowler').count().reset_index()\n",
    "pp_wic_sorted = pp_wic.sort_values(by='Wickets',ascending=False)\n",
    "top_bowlers_sorted = pp_wic_sorted.loc[:,['bowler','Wickets']][0:10]\n",
    "top_bowlers_sorted"
   ]
  },
  {
   "cell_type": "markdown",
   "metadata": {},
   "source": [
    "Lasith malinga has once again proved that he is the death overs specialist "
   ]
  },
  {
   "cell_type": "code",
   "execution_count": 62,
   "metadata": {},
   "outputs": [
    {
     "data": {
      "text/html": [
       "<div>\n",
       "<style scoped>\n",
       "    .dataframe tbody tr th:only-of-type {\n",
       "        vertical-align: middle;\n",
       "    }\n",
       "\n",
       "    .dataframe tbody tr th {\n",
       "        vertical-align: top;\n",
       "    }\n",
       "\n",
       "    .dataframe thead th {\n",
       "        text-align: right;\n",
       "    }\n",
       "</style>\n",
       "<table border=\"1\" class=\"dataframe\">\n",
       "  <thead>\n",
       "    <tr style=\"text-align: right;\">\n",
       "      <th></th>\n",
       "      <th>bowling_team</th>\n",
       "      <th>Wickets</th>\n",
       "    </tr>\n",
       "  </thead>\n",
       "  <tbody>\n",
       "    <tr>\n",
       "      <th>8</th>\n",
       "      <td>Mumbai Indians</td>\n",
       "      <td>307</td>\n",
       "    </tr>\n",
       "    <tr>\n",
       "      <th>0</th>\n",
       "      <td>Chennai Super Kings</td>\n",
       "      <td>271</td>\n",
       "    </tr>\n",
       "    <tr>\n",
       "      <th>13</th>\n",
       "      <td>Royal Challengers Bangalore</td>\n",
       "      <td>271</td>\n",
       "    </tr>\n",
       "    <tr>\n",
       "      <th>5</th>\n",
       "      <td>Kings XI Punjab</td>\n",
       "      <td>257</td>\n",
       "    </tr>\n",
       "    <tr>\n",
       "      <th>10</th>\n",
       "      <td>Rajasthan Royals</td>\n",
       "      <td>248</td>\n",
       "    </tr>\n",
       "    <tr>\n",
       "      <th>7</th>\n",
       "      <td>Kolkata Knight Riders</td>\n",
       "      <td>247</td>\n",
       "    </tr>\n",
       "    <tr>\n",
       "      <th>3</th>\n",
       "      <td>Delhi Daredevils</td>\n",
       "      <td>222</td>\n",
       "    </tr>\n",
       "    <tr>\n",
       "      <th>14</th>\n",
       "      <td>Sunrisers Hyderabad</td>\n",
       "      <td>170</td>\n",
       "    </tr>\n",
       "    <tr>\n",
       "      <th>1</th>\n",
       "      <td>Deccan Chargers</td>\n",
       "      <td>119</td>\n",
       "    </tr>\n",
       "    <tr>\n",
       "      <th>9</th>\n",
       "      <td>Pune Warriors</td>\n",
       "      <td>55</td>\n",
       "    </tr>\n",
       "  </tbody>\n",
       "</table>\n",
       "</div>"
      ],
      "text/plain": [
       "                   bowling_team  Wickets\n",
       "8                Mumbai Indians      307\n",
       "0           Chennai Super Kings      271\n",
       "13  Royal Challengers Bangalore      271\n",
       "5               Kings XI Punjab      257\n",
       "10             Rajasthan Royals      248\n",
       "7         Kolkata Knight Riders      247\n",
       "3              Delhi Daredevils      222\n",
       "14          Sunrisers Hyderabad      170\n",
       "1               Deccan Chargers      119\n",
       "9                 Pune Warriors       55"
      ]
     },
     "execution_count": 62,
     "metadata": {},
     "output_type": "execute_result"
    }
   ],
   "source": [
    "overs = [0,1,2,3,4,5]\n",
    "powerplay = IPL_Ball_data.loc[IPL_Ball_data['over'].isin(overs)]\n",
    "pp_wickets = powerplay.groupby('bowling_team').apply(lambda x : x['dismissal_kind'].dropna()).reset_index(name='Wickets')\n",
    "pp_wic = pp_wickets.groupby('bowling_team').count().reset_index()\n",
    "pp_wic_sorted = pp_wic.sort_values(by='Wickets',ascending=False)\n",
    "top_bowlers_sorted = pp_wic_sorted.loc[:,['bowling_team','Wickets']][0:10]\n",
    "top_bowlers_sorted"
   ]
  },
  {
   "cell_type": "code",
   "execution_count": 61,
   "metadata": {},
   "outputs": [
    {
     "data": {
      "text/html": [
       "<div>\n",
       "<style scoped>\n",
       "    .dataframe tbody tr th:only-of-type {\n",
       "        vertical-align: middle;\n",
       "    }\n",
       "\n",
       "    .dataframe tbody tr th {\n",
       "        vertical-align: top;\n",
       "    }\n",
       "\n",
       "    .dataframe thead th {\n",
       "        text-align: right;\n",
       "    }\n",
       "</style>\n",
       "<table border=\"1\" class=\"dataframe\">\n",
       "  <thead>\n",
       "    <tr style=\"text-align: right;\">\n",
       "      <th></th>\n",
       "      <th>bowling_team</th>\n",
       "      <th>Wickets</th>\n",
       "    </tr>\n",
       "  </thead>\n",
       "  <tbody>\n",
       "    <tr>\n",
       "      <th>8</th>\n",
       "      <td>Mumbai Indians</td>\n",
       "      <td>376</td>\n",
       "    </tr>\n",
       "    <tr>\n",
       "      <th>0</th>\n",
       "      <td>Chennai Super Kings</td>\n",
       "      <td>359</td>\n",
       "    </tr>\n",
       "    <tr>\n",
       "      <th>13</th>\n",
       "      <td>Royal Challengers Bangalore</td>\n",
       "      <td>354</td>\n",
       "    </tr>\n",
       "    <tr>\n",
       "      <th>5</th>\n",
       "      <td>Kings XI Punjab</td>\n",
       "      <td>350</td>\n",
       "    </tr>\n",
       "    <tr>\n",
       "      <th>7</th>\n",
       "      <td>Kolkata Knight Riders</td>\n",
       "      <td>337</td>\n",
       "    </tr>\n",
       "    <tr>\n",
       "      <th>3</th>\n",
       "      <td>Delhi Daredevils</td>\n",
       "      <td>296</td>\n",
       "    </tr>\n",
       "    <tr>\n",
       "      <th>10</th>\n",
       "      <td>Rajasthan Royals</td>\n",
       "      <td>277</td>\n",
       "    </tr>\n",
       "    <tr>\n",
       "      <th>14</th>\n",
       "      <td>Sunrisers Hyderabad</td>\n",
       "      <td>246</td>\n",
       "    </tr>\n",
       "    <tr>\n",
       "      <th>1</th>\n",
       "      <td>Deccan Chargers</td>\n",
       "      <td>137</td>\n",
       "    </tr>\n",
       "    <tr>\n",
       "      <th>2</th>\n",
       "      <td>Delhi Capitals</td>\n",
       "      <td>75</td>\n",
       "    </tr>\n",
       "  </tbody>\n",
       "</table>\n",
       "</div>"
      ],
      "text/plain": [
       "                   bowling_team  Wickets\n",
       "8                Mumbai Indians      376\n",
       "0           Chennai Super Kings      359\n",
       "13  Royal Challengers Bangalore      354\n",
       "5               Kings XI Punjab      350\n",
       "7         Kolkata Knight Riders      337\n",
       "3              Delhi Daredevils      296\n",
       "10             Rajasthan Royals      277\n",
       "14          Sunrisers Hyderabad      246\n",
       "1               Deccan Chargers      137\n",
       "2                Delhi Capitals       75"
      ]
     },
     "execution_count": 61,
     "metadata": {},
     "output_type": "execute_result"
    }
   ],
   "source": [
    "overs = [16,17,18,19,20]\n",
    "powerplay = IPL_Ball_data.loc[IPL_Ball_data['over'].isin(overs)]\n",
    "pp_wickets = powerplay.groupby('bowling_team').apply(lambda x : x['dismissal_kind'].dropna()).reset_index(name='Wickets')\n",
    "pp_wic = pp_wickets.groupby('bowling_team').count().reset_index()\n",
    "pp_wic_sorted = pp_wic.sort_values(by='Wickets',ascending=False)\n",
    "top_bowlers_sorted = pp_wic_sorted.loc[:,['bowling_team','Wickets']][0:10]\n",
    "top_bowlers_sorted"
   ]
  },
  {
   "cell_type": "markdown",
   "metadata": {},
   "source": [
    "Cleary we say say by looking at the stats why Mumbai indians is the Champion team in the IPL"
   ]
  },
  {
   "cell_type": "markdown",
   "metadata": {},
   "source": [
    "## Inferences and Conclusion \n",
    "Let’s summarize the important observations we made during Exploratory Data Analysis:\n",
    "\n",
    "* Mumbai Indians is the most successful team in IPL.\n",
    "* Mumbai Indians has won the most number of toss.\n",
    "* Chris Gayle has won the maximum number of player of the match title.\n",
    "* Eden Gardens has hosted the maximum number of IPL matches,\n",
    "* Virat Kohli is the leading run scorer in the IPL,\n",
    "* Lasith Malinga is the leading wicket(170) takers in the IPL.\n",
    "* Till now, 35 venues have hosted 816 IPL matches.\n",
    "* The Mumbai city has hosted the most number of IPL matches.\n",
    "* AD de Villers has won the maximum number of player of the match title.\n",
    "* MSD has taken most no of catches in IPL"
   ]
  },
  {
   "cell_type": "code",
   "execution_count": 158,
   "metadata": {},
   "outputs": [
    {
     "name": "stdout",
     "output_type": "stream",
     "text": [
      "Collecting python-pptx\n",
      "  Downloading python-pptx-0.6.18.tar.gz (8.9 MB)\n",
      "Requirement already satisfied: lxml>=3.1.0 in c:\\users\\sanjay\\anaconda3\\lib\\site-packages (from python-pptx) (4.5.0)\n",
      "Requirement already satisfied: Pillow>=3.3.2 in c:\\users\\sanjay\\anaconda3\\lib\\site-packages (from python-pptx) (7.0.0)\n",
      "Requirement already satisfied: XlsxWriter>=0.5.7 in c:\\users\\sanjay\\anaconda3\\lib\\site-packages (from python-pptx) (1.2.7)\n",
      "Building wheels for collected packages: python-pptx\n",
      "  Building wheel for python-pptx (setup.py): started\n",
      "  Building wheel for python-pptx (setup.py): finished with status 'done'\n",
      "  Created wheel for python-pptx: filename=python_pptx-0.6.18-py3-none-any.whl size=275709 sha256=bd617cab357f827027a5e4e213b76987e75d3cceb2e3329f86ab9f102b2bbcd1\n",
      "  Stored in directory: c:\\users\\sanjay\\appdata\\local\\pip\\cache\\wheels\\68\\99\\55\\8f6d0c128a214c26ac5b9f75ea68f6387feec407055458af1e\n",
      "Successfully built python-pptx\n",
      "Installing collected packages: python-pptx\n",
      "Successfully installed python-pptx-0.6.18\n",
      "Note: you may need to restart the kernel to use updated packages.\n"
     ]
    }
   ],
   "source": [
    "pip install python-pptx"
   ]
  },
  {
   "cell_type": "code",
   "execution_count": 161,
   "metadata": {},
   "outputs": [],
   "source": [
    "from pptx import Presentation\n",
    "\n",
    "\n",
    "prs = Presentation()\n",
    "prs.save('IPL_EDA.pptx')"
   ]
  },
  {
   "cell_type": "code",
   "execution_count": null,
   "metadata": {},
   "outputs": [],
   "source": []
  }
 ],
 "metadata": {
  "kernelspec": {
   "display_name": "Python 3",
   "language": "python",
   "name": "python3"
  },
  "language_info": {
   "codemirror_mode": {
    "name": "ipython",
    "version": 3
   },
   "file_extension": ".py",
   "mimetype": "text/x-python",
   "name": "python",
   "nbconvert_exporter": "python",
   "pygments_lexer": "ipython3",
   "version": "3.7.6"
  }
 },
 "nbformat": 4,
 "nbformat_minor": 4
}
